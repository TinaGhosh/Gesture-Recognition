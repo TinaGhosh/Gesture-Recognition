{
 "cells": [
  {
   "cell_type": "markdown",
   "metadata": {},
   "source": [
    "# Gesture Recognition\n",
    "In this group project, you are going to build a 3D Conv model that will be able to predict the 5 gestures correctly. Please import the following libraries to get started."
   ]
  },
  {
   "cell_type": "code",
   "execution_count": 1,
   "metadata": {},
   "outputs": [],
   "source": [
    "import numpy as np\n",
    "import os\n",
    "#from scipy.misc.pilutil import imread, imresize\n",
    "from imageio import imread\n",
    "import datetime\n",
    "import os\n",
    "import abc\n",
    "from PIL import Image\n",
    "import cv2\n",
    "import matplotlib.pyplot as plt\n",
    "from sys import getsizeof"
   ]
  },
  {
   "cell_type": "markdown",
   "metadata": {},
   "source": [
    "We set the random seed so that the results don't vary drastically."
   ]
  },
  {
   "cell_type": "code",
   "execution_count": 2,
   "metadata": {},
   "outputs": [
    {
     "name": "stderr",
     "output_type": "stream",
     "text": [
      "Using TensorFlow backend.\n"
     ]
    }
   ],
   "source": [
    "np.random.seed(30)\n",
    "import random as rn\n",
    "rn.seed(30)\n",
    "from keras import backend as K\n",
    "import tensorflow as tf\n",
    "tf.set_random_seed(30)\n",
    "#tf.random.set_seed(30)"
   ]
  },
  {
   "cell_type": "markdown",
   "metadata": {},
   "source": [
    "In this block, you read the folder names for training and validation. You also set the `batch_size` here. Note that you set the batch size in such a way that you are able to use the GPU in full capacity. You keep increasing the batch size until the machine throws an error."
   ]
  },
  {
   "cell_type": "code",
   "execution_count": 3,
   "metadata": {},
   "outputs": [],
   "source": [
    "#train_doc = np.random.permutation(open('/notebooks/storage/Final_data/Collated_training/train.csv').readlines())\n",
    "#val_doc = np.random.permutation(open('/notebooks/storage/Final_data/Collated_training/val.csv').readlines())\n",
    "train_doc = np.random.permutation(open('./Project_data/train.csv').readlines())\n",
    "val_doc = np.random.permutation(open('./Project_data/train.csv').readlines())\n",
    "batch_size = 32 #experiment with the batch size"
   ]
  },
  {
   "cell_type": "code",
   "execution_count": 4,
   "metadata": {},
   "outputs": [
    {
     "name": "stdout",
     "output_type": "stream",
     "text": [
      "663\n",
      "663\n"
     ]
    }
   ],
   "source": [
    "print(len(train_doc))\n",
    "print(len(val_doc))"
   ]
  },
  {
   "cell_type": "markdown",
   "metadata": {},
   "source": [
    "## Generator\n",
    "This is one of the most important part of the code. The overall structure of the generator has been given. In the generator, you are going to preprocess the images as you have images of 2 different dimensions as well as create a batch of video frames. You have to experiment with `img_idx`, `y`,`z` and normalization such that you get high accuracy."
   ]
  },
  {
   "cell_type": "code",
   "execution_count": 5,
   "metadata": {},
   "outputs": [],
   "source": [
    "class ModelBuilder(metaclass= abc.ABCMeta):\n",
    "    # initialisng the path where project data resides\n",
    "    def initialize_path(self):\n",
    "        self.train_doc = np.random.permutation(open('./Project_data/train.csv').readlines())\n",
    "        self.val_doc = np.random.permutation(open('./Project_data/train.csv').readlines())\n",
    "        self.train_path = './Project_data/train'\n",
    "        self.val_path =  './Project_data/train'\n",
    "        self.num_train_sequences = len(self.train_doc)\n",
    "        self.num_val_sequences = len(self.val_doc)\n",
    "    # initialising the image properties    \n",
    "    def initialize_image_properties(self,image_height=100,image_width=100):\n",
    "        self.image_height=image_height\n",
    "        self.image_width=image_width\n",
    "        self.channels=3\n",
    "        self.num_classes=5\n",
    "        self.total_frames=30\n",
    "    # initialising the batch size, frames to sample and the no. of epochs\n",
    "    def initialize_hyperparams(self,frames_to_sample=30,batch_size=20,num_epochs=20):\n",
    "        self.frames_to_sample=frames_to_sample\n",
    "        self.batch_size=batch_size\n",
    "        self.num_epochs=num_epochs\n",
    "        \n",
    "    # MOST IMPORTANT PART HERE - The generator function        \n",
    "    def generator(self,source_path, folder_list, augment=False):\n",
    "        img_idx = np.round(np.linspace(0,self.total_frames-1,self.frames_to_sample)).astype(int)\n",
    "        batch_size=self.batch_size\n",
    "        while True:\n",
    "            t = np.random.permutation(folder_list)\n",
    "            num_batches = len(t)//batch_size\n",
    "        \n",
    "            for batch in range(num_batches): \n",
    "                batch_data, batch_labels= self.one_batch_data(source_path,t,batch,batch_size,img_idx,augment)\n",
    "                yield batch_data, batch_labels \n",
    "\n",
    "            remaining_seq=len(t)%batch_size\n",
    "        \n",
    "            if (remaining_seq != 0):\n",
    "                batch_data, batch_labels= self.one_batch_data(source_path,t,num_batches,batch_size,img_idx,augment,remaining_seq)\n",
    "                yield batch_data, batch_labels \n",
    "    \n",
    "    \n",
    "    def one_batch_data(self,source_path,t,batch,batch_size,img_idx,augment,remaining_seq=0):\n",
    "    \n",
    "        seq_len = remaining_seq if remaining_seq else batch_size\n",
    "    \n",
    "        batch_data = np.zeros((seq_len,len(img_idx),self.image_height,self.image_width,self.channels)) \n",
    "        batch_labels = np.zeros((seq_len,self.num_classes)) \n",
    "    \n",
    "        if (augment): batch_data_aug = np.zeros((seq_len,len(img_idx),self.image_height,self.image_width,self.channels))\n",
    "\n",
    "        \n",
    "        for folder in range(seq_len): \n",
    "            imgs = os.listdir(source_path+'/'+ t[folder + (batch*batch_size)].split(';')[0]) \n",
    "            for idx,item in enumerate(img_idx):\n",
    "                #performing image reading and resizing\n",
    "                image = imread(source_path+'/'+ t[folder + (batch*batch_size)].strip().split(';')[0]+'/'+imgs[item]).astype(np.float32)\n",
    "                #image_resized=imresize(image,(self.image_height,self.image_width,3))\n",
    "                #image_resized=np.array(Image.fromarray(image).resize(self.image_height,self.image_width,3))\n",
    "                #image_resized=Image.fromarray(image).resize(size=(self.image_height,self.image_width),mode='RGB')\n",
    "                # Image resize of numpy as it is deprecated from scipy.misc\n",
    "                image_resized=np.array(Image.fromarray((image).astype(np.uint8)).resize((self.image_height,self.image_width)).convert('RGB'))\n",
    "                #normalizing the images\n",
    "                batch_data[folder,idx,:,:,0] = (image_resized[:,:,0])/255\n",
    "                batch_data[folder,idx,:,:,1] = (image_resized[:,:,1])/255\n",
    "                batch_data[folder,idx,:,:,2] = (image_resized[:,:,2])/255\n",
    "            \n",
    "                if (augment):\n",
    "                    shifted = cv2.warpAffine(image, \n",
    "                                             np.float32([[1, 0, np.random.randint(-30,30)],[0, 1, np.random.randint(-30,30)]]), \n",
    "                                            (image.shape[1], image.shape[0]))\n",
    "                    \n",
    "                    gray = cv2.cvtColor(shifted,cv2.COLOR_BGR2GRAY)\n",
    "\n",
    "                    x0, y0 = np.argwhere(gray > 0).min(axis=0)\n",
    "                    x1, y1 = np.argwhere(gray > 0).max(axis=0) \n",
    "                    # cropping the images to have the targeted gestures and remove the noise from the images.\n",
    "                    cropped=shifted[x0:x1,y0:y1,:]\n",
    "                    \n",
    "                    #image_resized=imresize(cropped,(self.image_height,self.image_width,3))\n",
    "                    #image_resized=np.array(Image.fromarray(cropped).resize(size=(self.image_height,self.image_width),mode='RGB'))\n",
    "                    # Image resize of numpy as it is deprecated from scipy.misc\n",
    "                    image_resized=np.array(Image.fromarray((cropped).astype(np.uint8)).resize((self.image_height,self.image_width)).convert('RGB'))\n",
    "        \n",
    "            \n",
    "                    batch_data_aug[folder,idx,:,:,0] = (image_resized[:,:,0])/255\n",
    "                    batch_data_aug[folder,idx,:,:,1] = (image_resized[:,:,1])/255\n",
    "                    batch_data_aug[folder,idx,:,:,2] = (image_resized[:,:,2])/255\n",
    "                \n",
    "            \n",
    "            batch_labels[folder, int(t[folder + (batch*batch_size)].strip().split(';')[2])] = 1\n",
    "            \n",
    "    \n",
    "        if (augment):\n",
    "            batch_data=np.concatenate([batch_data,batch_data_aug])\n",
    "            batch_labels=np.concatenate([batch_labels,batch_labels])\n",
    "\n",
    "        \n",
    "        return(batch_data,batch_labels)\n",
    "    \n",
    "    \n",
    "    def train_model(self, model, augment_data=False):\n",
    "        train_generator = self.generator(self.train_path, self.train_doc,augment=augment_data)\n",
    "        val_generator = self.generator(self.val_path, self.val_doc)\n",
    "\n",
    "        model_name = 'model_init' + '_' + str(datetime.datetime.now()).replace(' ','').replace(':','_') + '/'\n",
    "    \n",
    "        if not os.path.exists(model_name):\n",
    "            os.mkdir(model_name)\n",
    "        \n",
    "        filepath = model_name + 'model-{epoch:05d}-{loss:.5f}-{categorical_accuracy:.5f}-{val_loss:.5f}-{val_categorical_accuracy:.5f}.h5'\n",
    "\n",
    "        checkpoint = ModelCheckpoint(filepath, monitor='val_loss', verbose=1, save_best_only=True, save_weights_only=False, mode='auto', period=1)\n",
    "        LR = ReduceLROnPlateau(monitor='val_loss', factor=0.2, verbose=1, patience=4)\n",
    "        \n",
    "        earlystop = EarlyStopping( monitor=\"val_loss\", min_delta=0,patience=10,verbose=1)\n",
    "        callbacks_list = [checkpoint, LR, earlystop]\n",
    "\n",
    "        if (self.num_train_sequences%self.batch_size) == 0:\n",
    "            steps_per_epoch = int(self.num_train_sequences/self.batch_size)\n",
    "        else:\n",
    "            steps_per_epoch = (self.num_train_sequences//self.batch_size) + 1\n",
    "\n",
    "        if (self.num_val_sequences%self.batch_size) == 0:\n",
    "            validation_steps = int(self.num_val_sequences/self.batch_size)\n",
    "        else:\n",
    "            validation_steps = (self.num_val_sequences//self.batch_size) + 1\n",
    "    \n",
    "        history=model.fit_generator(train_generator, steps_per_epoch=steps_per_epoch, epochs=self.num_epochs, verbose=1, \n",
    "                            callbacks=callbacks_list, validation_data=val_generator, \n",
    "                            validation_steps=validation_steps, class_weight=None, workers=1, initial_epoch=0)\n",
    "        return history\n",
    "\n",
    "        \n",
    "    @abc.abstractmethod\n",
    "    def define_model(self):\n",
    "        pass"
   ]
  },
  {
   "cell_type": "markdown",
   "metadata": {},
   "source": [
    "# Model\n",
    "Here you make the model using different functionalities that Keras provides. Remember to use `Conv3D` and `MaxPooling3D` and not `Conv2D` and `Maxpooling2D` for a 3D convolution model. You would want to use `TimeDistributed` while building a Conv2D + RNN model. Also remember that the last layer is the softmax. Design the network in such a way that the model is able to give good accuracy on the least number of parameters so that it can fit in the memory of the webcam."
   ]
  },
  {
   "cell_type": "code",
   "execution_count": 55,
   "metadata": {},
   "outputs": [],
   "source": [
    "from keras.models import Sequential, Model\n",
    "from keras.layers import Dense, GRU, Flatten, TimeDistributed, Flatten, BatchNormalization, Activation\n",
    "from keras.layers.convolutional import Conv3D, MaxPooling3D, Conv2D, MaxPooling2D\n",
    "from keras.callbacks import ModelCheckpoint, ReduceLROnPlateau\n",
    "from keras import optimizers\n",
    "from keras.layers.recurrent import LSTM\n",
    "from keras.callbacks import ModelCheckpoint, ReduceLROnPlateau, EarlyStopping\n",
    "from keras.layers import Dropout"
   ]
  },
  {
   "cell_type": "code",
   "execution_count": 7,
   "metadata": {},
   "outputs": [],
   "source": [
    "class ModelConv3D(ModelBuilder):\n",
    "    \n",
    "    def define_model(self):\n",
    "\n",
    "        model = Sequential()\n",
    "        model.add(Conv3D(16, (3, 3, 3), padding='same',\n",
    "                 input_shape=(self.frames_to_sample,self.image_height,self.image_width,self.channels)))\n",
    "        model.add(Activation('relu'))\n",
    "        model.add(BatchNormalization())\n",
    "        model.add(MaxPooling3D(pool_size=(2, 2, 2)))\n",
    "\n",
    "        model.add(Conv3D(32, (2, 2, 2), padding='same'))\n",
    "        model.add(Activation('relu'))\n",
    "        model.add(BatchNormalization())\n",
    "        model.add(MaxPooling3D(pool_size=(2, 2, 2)))\n",
    "\n",
    "        model.add(Conv3D(64, (2, 2, 2), padding='same'))\n",
    "        model.add(Activation('relu'))\n",
    "        model.add(BatchNormalization())\n",
    "        model.add(MaxPooling3D(pool_size=(2, 2, 2)))\n",
    "\n",
    "        model.add(Conv3D(128, (2, 2, 2), padding='same'))\n",
    "        model.add(Activation('relu'))\n",
    "        model.add(BatchNormalization())\n",
    "        model.add(MaxPooling3D(pool_size=(2, 2, 2)))\n",
    "\n",
    "        model.add(Flatten())\n",
    "        model.add(Dense(128,activation='relu'))\n",
    "        model.add(BatchNormalization())\n",
    "        model.add(Dropout(0.5))\n",
    "\n",
    "        model.add(Dense(64,activation='relu'))\n",
    "        model.add(BatchNormalization())\n",
    "        model.add(Dropout(0.25))\n",
    "\n",
    "\n",
    "        model.add(Dense(self.num_classes,activation='softmax'))\n",
    "\n",
    "        optimiser = optimizers.Adam()\n",
    "        #optimiser = 'sgd'\n",
    "        model.compile(optimizer=optimiser, loss='categorical_crossentropy', metrics=['categorical_accuracy'])\n",
    "        return model"
   ]
  },
  {
   "cell_type": "code",
   "execution_count": 8,
   "metadata": {},
   "outputs": [
    {
     "name": "stdout",
     "output_type": "stream",
     "text": [
      "_________________________________________________________________\n",
      "Layer (type)                 Output Shape              Param #   \n",
      "=================================================================\n",
      "conv3d_1 (Conv3D)            (None, 30, 160, 160, 16)  1312      \n",
      "_________________________________________________________________\n",
      "activation_1 (Activation)    (None, 30, 160, 160, 16)  0         \n",
      "_________________________________________________________________\n",
      "batch_normalization_1 (Batch (None, 30, 160, 160, 16)  64        \n",
      "_________________________________________________________________\n",
      "max_pooling3d_1 (MaxPooling3 (None, 15, 80, 80, 16)    0         \n",
      "_________________________________________________________________\n",
      "conv3d_2 (Conv3D)            (None, 15, 80, 80, 32)    4128      \n",
      "_________________________________________________________________\n",
      "activation_2 (Activation)    (None, 15, 80, 80, 32)    0         \n",
      "_________________________________________________________________\n",
      "batch_normalization_2 (Batch (None, 15, 80, 80, 32)    128       \n",
      "_________________________________________________________________\n",
      "max_pooling3d_2 (MaxPooling3 (None, 7, 40, 40, 32)     0         \n",
      "_________________________________________________________________\n",
      "conv3d_3 (Conv3D)            (None, 7, 40, 40, 64)     16448     \n",
      "_________________________________________________________________\n",
      "activation_3 (Activation)    (None, 7, 40, 40, 64)     0         \n",
      "_________________________________________________________________\n",
      "batch_normalization_3 (Batch (None, 7, 40, 40, 64)     256       \n",
      "_________________________________________________________________\n",
      "max_pooling3d_3 (MaxPooling3 (None, 3, 20, 20, 64)     0         \n",
      "_________________________________________________________________\n",
      "conv3d_4 (Conv3D)            (None, 3, 20, 20, 128)    65664     \n",
      "_________________________________________________________________\n",
      "activation_4 (Activation)    (None, 3, 20, 20, 128)    0         \n",
      "_________________________________________________________________\n",
      "batch_normalization_4 (Batch (None, 3, 20, 20, 128)    512       \n",
      "_________________________________________________________________\n",
      "max_pooling3d_4 (MaxPooling3 (None, 1, 10, 10, 128)    0         \n",
      "_________________________________________________________________\n",
      "flatten_1 (Flatten)          (None, 12800)             0         \n",
      "_________________________________________________________________\n",
      "dense_1 (Dense)              (None, 128)               1638528   \n",
      "_________________________________________________________________\n",
      "batch_normalization_5 (Batch (None, 128)               512       \n",
      "_________________________________________________________________\n",
      "dropout_1 (Dropout)          (None, 128)               0         \n",
      "_________________________________________________________________\n",
      "dense_2 (Dense)              (None, 64)                8256      \n",
      "_________________________________________________________________\n",
      "batch_normalization_6 (Batch (None, 64)                256       \n",
      "_________________________________________________________________\n",
      "dropout_2 (Dropout)          (None, 64)                0         \n",
      "_________________________________________________________________\n",
      "dense_3 (Dense)              (None, 5)                 325       \n",
      "=================================================================\n",
      "Total params: 1,736,389\n",
      "Trainable params: 1,735,525\n",
      "Non-trainable params: 864\n",
      "_________________________________________________________________\n"
     ]
    }
   ],
   "source": [
    "conv_3d=ModelConv3D()\n",
    "conv_3d.initialize_path()\n",
    "conv_3d.initialize_image_properties(image_height=160,image_width=160)\n",
    "conv_3d.initialize_hyperparams(frames_to_sample=30,batch_size=10,num_epochs=1)\n",
    "conv_3d_model=conv_3d.define_model()\n",
    "conv_3d_model.summary()"
   ]
  },
  {
   "cell_type": "markdown",
   "metadata": {},
   "source": [
    "## Sample Cropping "
   ]
  },
  {
   "cell_type": "code",
   "execution_count": 9,
   "metadata": {},
   "outputs": [
    {
     "data": {
      "text/plain": [
       "<matplotlib.image.AxesImage at 0x7f4c14bd3cf8>"
      ]
     },
     "execution_count": 9,
     "metadata": {},
     "output_type": "execute_result"
    },
    {
     "data": {
      "image/png": "[encoded data removed]",
      "text/plain": [
       "<Figure size 432x288 with 2 Axes>"
      ]
     },
     "metadata": {},
     "output_type": "display_data"
    }
   ],
   "source": [
    "test_generator=ModelConv3D()\n",
    "test_generator.initialize_path()\n",
    "test_generator.initialize_image_properties(image_height=160,image_width=160)\n",
    "test_generator.initialize_hyperparams(frames_to_sample=30,batch_size=3,num_epochs=1)\n",
    "\n",
    "g=test_generator.generator(test_generator.val_path,test_generator.val_doc,augment=True)\n",
    "batch_data, batch_labels=next(g)\n",
    "fig, axes = plt.subplots(nrows=1, ncols=2)\n",
    "axes[0].imshow(batch_data[0,15,:,:,:])   \n",
    "axes[1].imshow(batch_data[3,15,:,:,:]) "
   ]
  },
  {
   "cell_type": "code",
   "execution_count": 10,
   "metadata": {},
   "outputs": [
    {
     "name": "stdout",
     "output_type": "stream",
     "text": [
      "Total Params: 687813\n",
      "Epoch 1/2\n",
      "23/23 [==============================] - 202s 9s/step - loss: 1.8241 - categorical_accuracy: 0.3542 - val_loss: 1.8291 - val_categorical_accuracy: 0.4314\n",
      "\n",
      "Epoch 00001: val_loss improved from inf to 1.82908, saving model to model_init_2020-09-1304_03_46.016724/model-00001-1.76117-0.36802-1.82908-0.43137.h5\n",
      "Epoch 2/2\n",
      "23/23 [==============================] - 82s 4s/step - loss: 1.1584 - categorical_accuracy: 0.5415 - val_loss: 1.2387 - val_categorical_accuracy: 0.5339\n",
      "\n",
      "Epoch 00002: val_loss improved from 1.82908 to 1.23866, saving model to model_init_2020-09-1304_03_46.016724/model-00002-1.11364-0.56259-1.23866-0.53394.h5\n"
     ]
    },
    {
     "data": {
      "text/plain": [
       "<keras.callbacks.History at 0x7f4c0f44dc18>"
      ]
     },
     "execution_count": 10,
     "metadata": {},
     "output_type": "execute_result"
    }
   ],
   "source": [
    "conv_3d=ModelConv3D()\n",
    "conv_3d.initialize_path()\n",
    "conv_3d.initialize_image_properties(image_height=100,image_width=100)\n",
    "conv_3d.initialize_hyperparams(frames_to_sample=30,batch_size=30,num_epochs=2)\n",
    "conv_3d_model=conv_3d.define_model()\n",
    "print(\"Total Params:\", conv_3d_model.count_params())\n",
    "conv_3d.train_model(conv_3d_model)"
   ]
  },
  {
   "cell_type": "code",
   "execution_count": 11,
   "metadata": {},
   "outputs": [
    {
     "name": "stdout",
     "output_type": "stream",
     "text": [
      "Total Params: 687813\n",
      "Epoch 1/2\n",
      "12/12 [==============================] - 84s 7s/step - loss: 1.9366 - categorical_accuracy: 0.3683 - val_loss: 1.4665 - val_categorical_accuracy: 0.5370\n",
      "\n",
      "Epoch 00001: val_loss improved from inf to 1.46653, saving model to model_init_2020-09-1304_08_35.804863/model-00001-1.82164-0.37104-1.46653-0.53695.h5\n",
      "Epoch 2/2\n",
      "12/12 [==============================] - 75s 6s/step - loss: 1.1224 - categorical_accuracy: 0.5548 - val_loss: 1.1123 - val_categorical_accuracy: 0.6094\n",
      "\n",
      "Epoch 00002: val_loss improved from 1.46653 to 1.11233, saving model to model_init_2020-09-1304_08_35.804863/model-00002-1.17414-0.54600-1.11233-0.60935.h5\n"
     ]
    },
    {
     "data": {
      "text/plain": [
       "<keras.callbacks.History at 0x7f4ba05f58d0>"
      ]
     },
     "execution_count": 11,
     "metadata": {},
     "output_type": "execute_result"
    }
   ],
   "source": [
    "conv_3d=ModelConv3D()\n",
    "conv_3d.initialize_path()\n",
    "conv_3d.initialize_image_properties(image_height=100,image_width=100)\n",
    "conv_3d.initialize_hyperparams(frames_to_sample=30,batch_size=60,num_epochs=2)\n",
    "conv_3d_model=conv_3d.define_model()\n",
    "print(\"Total Params:\", conv_3d_model.count_params())\n",
    "conv_3d.train_model(conv_3d_model)"
   ]
  },
  {
   "cell_type": "code",
   "execution_count": 12,
   "metadata": {},
   "outputs": [
    {
     "name": "stdout",
     "output_type": "stream",
     "text": [
      "Total Params: 687813\n",
      "Epoch 1/2\n",
      "12/12 [==============================] - 46s 4s/step - loss: 1.6807 - categorical_accuracy: 0.3481 - val_loss: 1.2661 - val_categorical_accuracy: 0.5430\n",
      "\n",
      "Epoch 00001: val_loss improved from inf to 1.26610, saving model to model_init_2020-09-1304_12_00.700928/model-00001-1.67603-0.37557-1.26610-0.54299.h5\n",
      "Epoch 2/2\n",
      "12/12 [==============================] - 39s 3s/step - loss: 1.1500 - categorical_accuracy: 0.5333 - val_loss: 1.0858 - val_categorical_accuracy: 0.6109\n",
      "\n",
      "Epoch 00002: val_loss improved from 1.26610 to 1.08577, saving model to model_init_2020-09-1304_12_00.700928/model-00002-1.12452-0.54902-1.08577-0.61086.h5\n"
     ]
    },
    {
     "data": {
      "text/plain": [
       "<keras.callbacks.History at 0x7f4bea756e10>"
      ]
     },
     "execution_count": 12,
     "metadata": {},
     "output_type": "execute_result"
    }
   ],
   "source": [
    "conv_3d=ModelConv3D()\n",
    "conv_3d.initialize_path()\n",
    "conv_3d.initialize_image_properties(image_height=100,image_width=100)\n",
    "conv_3d.initialize_hyperparams(frames_to_sample=16,batch_size=60,num_epochs=2)\n",
    "conv_3d_model=conv_3d.define_model()\n",
    "print(\"Total Params:\", conv_3d_model.count_params())\n",
    "conv_3d.train_model(conv_3d_model)"
   ]
  },
  {
   "cell_type": "code",
   "execution_count": 13,
   "metadata": {},
   "outputs": [
    {
     "name": "stdout",
     "output_type": "stream",
     "text": [
      "Total Params: 687813\n",
      "Epoch 1/2\n",
      "9/9 [==============================] - 47s 5s/step - loss: 1.6868 - categorical_accuracy: 0.3778 - val_loss: 2.8138 - val_categorical_accuracy: 0.3710\n",
      "\n",
      "Epoch 00001: val_loss improved from inf to 2.81382, saving model to model_init_2020-09-1304_13_33.593359/model-00001-1.68667-0.38009-2.81382-0.37104.h5\n",
      "Epoch 2/2\n",
      "9/9 [==============================] - 37s 4s/step - loss: 1.0592 - categorical_accuracy: 0.6124 - val_loss: 1.8270 - val_categorical_accuracy: 0.4223\n",
      "\n",
      "Epoch 00002: val_loss improved from 2.81382 to 1.82700, saving model to model_init_2020-09-1304_13_33.593359/model-00002-1.07003-0.60935-1.82700-0.42232.h5\n"
     ]
    },
    {
     "data": {
      "text/plain": [
       "<keras.callbacks.History at 0x7f4be8b759e8>"
      ]
     },
     "execution_count": 13,
     "metadata": {},
     "output_type": "execute_result"
    }
   ],
   "source": [
    "conv_3d=ModelConv3D()\n",
    "conv_3d.initialize_path()\n",
    "conv_3d.initialize_image_properties(image_height=100,image_width=100)\n",
    "conv_3d.initialize_hyperparams(frames_to_sample=16,batch_size=80,num_epochs=2)\n",
    "conv_3d_model=conv_3d.define_model()\n",
    "print(\"Total Params:\", conv_3d_model.count_params())\n",
    "conv_3d.train_model(conv_3d_model)"
   ]
  },
  {
   "cell_type": "code",
   "execution_count": 14,
   "metadata": {},
   "outputs": [
    {
     "name": "stdout",
     "output_type": "stream",
     "text": [
      "Total Params: 687813\n",
      "Epoch 1/2\n",
      "67/67 [==============================] - 57s 856ms/step - loss: 1.6577 - categorical_accuracy: 0.3796 - val_loss: 1.3295 - val_categorical_accuracy: 0.5113\n",
      "\n",
      "Epoch 00001: val_loss improved from inf to 1.32954, saving model to model_init_2020-09-1304_15_06.936613/model-00001-1.66089-0.38009-1.32954-0.51131.h5\n",
      "Epoch 2/2\n",
      "67/67 [==============================] - 52s 775ms/step - loss: 1.2029 - categorical_accuracy: 0.5458 - val_loss: 0.8386 - val_categorical_accuracy: 0.6561\n",
      "\n",
      "Epoch 00002: val_loss improved from 1.32954 to 0.83862, saving model to model_init_2020-09-1304_15_06.936613/model-00002-1.20838-0.54449-0.83862-0.65611.h5\n"
     ]
    },
    {
     "data": {
      "text/plain": [
       "<keras.callbacks.History at 0x7f4be92212b0>"
      ]
     },
     "execution_count": 14,
     "metadata": {},
     "output_type": "execute_result"
    }
   ],
   "source": [
    "conv_3d=ModelConv3D()\n",
    "conv_3d.initialize_path()\n",
    "conv_3d.initialize_image_properties(image_height=100,image_width=100)\n",
    "conv_3d.initialize_hyperparams(frames_to_sample=16,batch_size=10,num_epochs=2)\n",
    "conv_3d_model=conv_3d.define_model()\n",
    "print(\"Total Params:\", conv_3d_model.count_params())\n",
    "conv_3d.train_model(conv_3d_model)"
   ]
  },
  {
   "cell_type": "code",
   "execution_count": 15,
   "metadata": {},
   "outputs": [
    {
     "name": "stdout",
     "output_type": "stream",
     "text": [
      "Total Params: 687813\n",
      "Epoch 1/2\n",
      "67/67 [==============================] - 104s 2s/step - loss: 1.6594 - categorical_accuracy: 0.3890 - val_loss: 1.2721 - val_categorical_accuracy: 0.5279\n",
      "\n",
      "Epoch 00001: val_loss improved from inf to 1.27205, saving model to model_init_2020-09-1304_17_01.899615/model-00001-1.66205-0.38612-1.27205-0.52790.h5\n",
      "Epoch 2/2\n",
      "67/67 [==============================] - 96s 1s/step - loss: 1.2299 - categorical_accuracy: 0.5244 - val_loss: 0.8593 - val_categorical_accuracy: 0.6863\n",
      "\n",
      "Epoch 00002: val_loss improved from 1.27205 to 0.85927, saving model to model_init_2020-09-1304_17_01.899615/model-00002-1.23104-0.52640-0.85927-0.68627.h5\n"
     ]
    },
    {
     "data": {
      "text/plain": [
       "<keras.callbacks.History at 0x7f4bded87160>"
      ]
     },
     "execution_count": 15,
     "metadata": {},
     "output_type": "execute_result"
    }
   ],
   "source": [
    "conv_3d=ModelConv3D()\n",
    "conv_3d.initialize_path()\n",
    "conv_3d.initialize_image_properties(image_height=100,image_width=100)\n",
    "conv_3d.initialize_hyperparams(frames_to_sample=30,batch_size=10,num_epochs=2)\n",
    "conv_3d_model=conv_3d.define_model()\n",
    "print(\"Total Params:\", conv_3d_model.count_params())\n",
    "conv_3d.train_model(conv_3d_model)"
   ]
  },
  {
   "cell_type": "code",
   "execution_count": 16,
   "metadata": {},
   "outputs": [
    {
     "name": "stdout",
     "output_type": "stream",
     "text": [
      "Total Params: 1736389\n",
      "Epoch 1/3\n",
      "23/23 [==============================] - 70s 3s/step - loss: 1.7876 - categorical_accuracy: 0.3804 - val_loss: 1.3946 - val_categorical_accuracy: 0.5641\n",
      "\n",
      "Epoch 00001: val_loss improved from inf to 1.39461, saving model to model_init_2020-09-1304_20_28.798684/model-00001-1.72095-0.39517-1.39461-0.56410.h5\n",
      "Epoch 2/3\n",
      "23/23 [==============================] - 52s 2s/step - loss: 1.0425 - categorical_accuracy: 0.6121 - val_loss: 1.0160 - val_categorical_accuracy: 0.6667\n",
      "\n",
      "Epoch 00002: val_loss improved from 1.39461 to 1.01598, saving model to model_init_2020-09-1304_20_28.798684/model-00002-1.01416-0.62293-1.01598-0.66667.h5\n",
      "Epoch 3/3\n",
      "23/23 [==============================] - 53s 2s/step - loss: 0.8534 - categorical_accuracy: 0.6826 - val_loss: 0.5463 - val_categorical_accuracy: 0.8100\n",
      "\n",
      "Epoch 00003: val_loss improved from 1.01598 to 0.54633, saving model to model_init_2020-09-1304_20_28.798684/model-00003-0.84767-0.68326-0.54633-0.80995.h5\n"
     ]
    },
    {
     "data": {
      "text/plain": [
       "<keras.callbacks.History at 0x7f4be4487be0>"
      ]
     },
     "execution_count": 16,
     "metadata": {},
     "output_type": "execute_result"
    }
   ],
   "source": [
    "conv_3d=ModelConv3D()\n",
    "conv_3d.initialize_path()\n",
    "conv_3d.initialize_image_properties(image_height=160,image_width=160)\n",
    "conv_3d.initialize_hyperparams(frames_to_sample=16,batch_size=30,num_epochs=3)\n",
    "conv_3d_model=conv_3d.define_model()\n",
    "print(\"Total Params:\", conv_3d_model.count_params())\n",
    "conv_3d.train_model(conv_3d_model)"
   ]
  },
  {
   "cell_type": "code",
   "execution_count": 17,
   "metadata": {},
   "outputs": [
    {
     "name": "stdout",
     "output_type": "stream",
     "text": [
      "Total Params: 1736389\n",
      "Epoch 1/2\n",
      "45/45 [==============================] - 130s 3s/step - loss: 1.5280 - categorical_accuracy: 0.4340 - val_loss: 1.0532 - val_categorical_accuracy: 0.5988\n",
      "\n",
      "Epoch 00001: val_loss improved from inf to 1.05323, saving model to model_init_2020-09-1304_23_32.154656/model-00001-1.53474-0.42986-1.05323-0.59879.h5\n",
      "Epoch 2/2\n",
      "45/45 [==============================] - 111s 2s/step - loss: 0.9693 - categorical_accuracy: 0.6428 - val_loss: 0.9838 - val_categorical_accuracy: 0.6682\n",
      "\n",
      "Epoch 00002: val_loss improved from 1.05323 to 0.98375, saving model to model_init_2020-09-1304_23_32.154656/model-00002-0.98012-0.63650-0.98375-0.66817.h5\n"
     ]
    },
    {
     "data": {
      "text/plain": [
       "<keras.callbacks.History at 0x7f4be2ad8940>"
      ]
     },
     "execution_count": 17,
     "metadata": {},
     "output_type": "execute_result"
    }
   ],
   "source": [
    "conv_3d=ModelConv3D()\n",
    "conv_3d.initialize_path()\n",
    "conv_3d.initialize_image_properties(image_height=160,image_width=160)\n",
    "conv_3d.initialize_hyperparams(frames_to_sample=30,batch_size=15,num_epochs=2)\n",
    "conv_3d_model=conv_3d.define_model()\n",
    "print(\"Total Params:\", conv_3d_model.count_params())\n",
    "conv_3d.train_model(conv_3d_model)"
   ]
  },
  {
   "cell_type": "code",
   "execution_count": 18,
   "metadata": {},
   "outputs": [
    {
     "name": "stdout",
     "output_type": "stream",
     "text": [
      "Total Params: 1736389\n",
      "Epoch 1/2\n",
      "45/45 [==============================] - 68s 2s/step - loss: 1.5391 - categorical_accuracy: 0.4605 - val_loss: 1.3545 - val_categorical_accuracy: 0.5249\n",
      "\n",
      "Epoch 00001: val_loss improved from inf to 1.35454, saving model to model_init_2020-09-1304_27_41.078697/model-00001-1.56005-0.45098-1.35454-0.52489.h5\n",
      "Epoch 2/2\n",
      "45/45 [==============================] - 60s 1s/step - loss: 1.1609 - categorical_accuracy: 0.5661 - val_loss: 0.8108 - val_categorical_accuracy: 0.6923\n",
      "\n",
      "Epoch 00002: val_loss improved from 1.35454 to 0.81083, saving model to model_init_2020-09-1304_27_41.078697/model-00002-1.14245-0.57617-0.81083-0.69231.h5\n"
     ]
    },
    {
     "data": {
      "text/plain": [
       "<keras.callbacks.History at 0x7f4be1572eb8>"
      ]
     },
     "execution_count": 18,
     "metadata": {},
     "output_type": "execute_result"
    }
   ],
   "source": [
    "conv_3d=ModelConv3D()\n",
    "conv_3d.initialize_path()\n",
    "conv_3d.initialize_image_properties(image_height=160,image_width=160)\n",
    "conv_3d.initialize_hyperparams(frames_to_sample=16,batch_size=15,num_epochs=2)\n",
    "conv_3d_model=conv_3d.define_model()\n",
    "print(\"Total Params:\", conv_3d_model.count_params())\n",
    "conv_3d.train_model(conv_3d_model)"
   ]
  },
  {
   "cell_type": "code",
   "execution_count": 19,
   "metadata": {},
   "outputs": [
    {
     "name": "stdout",
     "output_type": "stream",
     "text": [
      "Total Params: 1736389\n",
      "Epoch 1/2\n",
      "67/67 [==============================] - 72s 1s/step - loss: 1.5064 - categorical_accuracy: 0.4398 - val_loss: 0.8224 - val_categorical_accuracy: 0.6817\n",
      "\n",
      "Epoch 00001: val_loss improved from inf to 0.82238, saving model to model_init_2020-09-1304_29_57.109020/model-00001-1.50369-0.43741-0.82238-0.68175.h5\n",
      "Epoch 2/2\n",
      "67/67 [==============================] - 64s 952ms/step - loss: 1.1106 - categorical_accuracy: 0.5696 - val_loss: 0.9393 - val_categorical_accuracy: 0.6486\n",
      "\n",
      "Epoch 00002: val_loss did not improve from 0.82238\n"
     ]
    },
    {
     "data": {
      "text/plain": [
       "<keras.callbacks.History at 0x7f4bdf1359e8>"
      ]
     },
     "execution_count": 19,
     "metadata": {},
     "output_type": "execute_result"
    }
   ],
   "source": [
    "conv_3d=ModelConv3D()\n",
    "conv_3d.initialize_path()\n",
    "conv_3d.initialize_image_properties(image_height=160,image_width=160)\n",
    "conv_3d.initialize_hyperparams(frames_to_sample=16,batch_size=10,num_epochs=2)\n",
    "conv_3d_model=conv_3d.define_model()\n",
    "print(\"Total Params:\", conv_3d_model.count_params())\n",
    "conv_3d.train_model(conv_3d_model)"
   ]
  },
  {
   "cell_type": "code",
   "execution_count": 20,
   "metadata": {},
   "outputs": [
    {
     "name": "stdout",
     "output_type": "stream",
     "text": [
      "Total Params: 1736389\n",
      "Epoch 1/2\n",
      "17/17 [==============================] - 66s 4s/step - loss: 1.6803 - categorical_accuracy: 0.3980 - val_loss: 1.3484 - val_categorical_accuracy: 0.5324\n",
      "\n",
      "Epoch 00001: val_loss improved from inf to 1.34844, saving model to model_init_2020-09-1304_32_20.827860/model-00001-1.67952-0.39819-1.34844-0.53243.h5\n",
      "Epoch 2/2\n",
      "17/17 [==============================] - 46s 3s/step - loss: 1.0374 - categorical_accuracy: 0.5908 - val_loss: 0.7204 - val_categorical_accuracy: 0.7255\n",
      "\n",
      "Epoch 00002: val_loss improved from 1.34844 to 0.72037, saving model to model_init_2020-09-1304_32_20.827860/model-00002-1.03318-0.58824-0.72037-0.72549.h5\n"
     ]
    },
    {
     "data": {
      "text/plain": [
       "<keras.callbacks.History at 0x7f4bdd760ba8>"
      ]
     },
     "execution_count": 20,
     "metadata": {},
     "output_type": "execute_result"
    }
   ],
   "source": [
    "conv_3d=ModelConv3D()\n",
    "conv_3d.initialize_path()\n",
    "conv_3d.initialize_image_properties(image_height=160,image_width=160)\n",
    "conv_3d.initialize_hyperparams(frames_to_sample=16,batch_size=40,num_epochs=2)\n",
    "conv_3d_model=conv_3d.define_model()\n",
    "print(\"Total Params:\", conv_3d_model.count_params())\n",
    "conv_3d.train_model(conv_3d_model)"
   ]
  },
  {
   "cell_type": "code",
   "execution_count": 21,
   "metadata": {},
   "outputs": [
    {
     "name": "stdout",
     "output_type": "stream",
     "text": [
      "Total Params: 1736389\n",
      "Epoch 1/3\n"
     ]
    },
    {
     "ename": "ResourceExhaustedError",
     "evalue": "OOM when allocating tensor with shape[50,16,20,160,160] and type float on /job:localhost/replica:0/task:0/device:GPU:0 by allocator GPU_0_bfc\n\t [[Node: training_11/Adam/gradients/max_pooling3d_49/MaxPool3D_grad/MaxPool3DGrad = MaxPool3DGrad[T=DT_FLOAT, TInput=DT_FLOAT, _class=[\"loc:@train.../cond_grad\"], data_format=\"NDHWC\", ksize=[1, 2, 2, 2, 1], padding=\"VALID\", strides=[1, 2, 2, 2, 1], _device=\"/job:localhost/replica:0/task:0/device:GPU:0\"](batch_normalization_73/cond/Merge, max_pooling3d_49/MaxPool3D, training_11/Adam/gradients/conv3d_50/convolution_grad/Conv3DBackpropInputV2)]]\nHint: If you want to see a list of allocated tensors when OOM happens, add report_tensor_allocations_upon_oom to RunOptions for current allocation info.\n",
     "output_type": "error",
     "traceback": [
      "\u001b[0;31m---------------------------------------------------------------------------\u001b[0m",
      "\u001b[0;31mResourceExhaustedError\u001b[0m                    Traceback (most recent call last)",
      "\u001b[0;32m<ipython-input-21-afb8a413e973>\u001b[0m in \u001b[0;36m<module>\u001b[0;34m()\u001b[0m\n\u001b[1;32m      5\u001b[0m \u001b[0mconv_3d_model\u001b[0m\u001b[0;34m=\u001b[0m\u001b[0mconv_3d\u001b[0m\u001b[0;34m.\u001b[0m\u001b[0mdefine_model\u001b[0m\u001b[0;34m(\u001b[0m\u001b[0;34m)\u001b[0m\u001b[0;34m\u001b[0m\u001b[0;34m\u001b[0m\u001b[0m\n\u001b[1;32m      6\u001b[0m \u001b[0mprint\u001b[0m\u001b[0;34m(\u001b[0m\u001b[0;34m\"Total Params:\"\u001b[0m\u001b[0;34m,\u001b[0m \u001b[0mconv_3d_model\u001b[0m\u001b[0;34m.\u001b[0m\u001b[0mcount_params\u001b[0m\u001b[0;34m(\u001b[0m\u001b[0;34m)\u001b[0m\u001b[0;34m)\u001b[0m\u001b[0;34m\u001b[0m\u001b[0;34m\u001b[0m\u001b[0m\n\u001b[0;32m----> 7\u001b[0;31m \u001b[0mconv_3d\u001b[0m\u001b[0;34m.\u001b[0m\u001b[0mtrain_model\u001b[0m\u001b[0;34m(\u001b[0m\u001b[0mconv_3d_model\u001b[0m\u001b[0;34m)\u001b[0m\u001b[0;34m\u001b[0m\u001b[0;34m\u001b[0m\u001b[0m\n\u001b[0m",
      "\u001b[0;32m<ipython-input-5-379564c88430>\u001b[0m in \u001b[0;36mtrain_model\u001b[0;34m(self, model, augment_data)\u001b[0m\n\u001b[1;32m    128\u001b[0m         history=model.fit_generator(train_generator, steps_per_epoch=steps_per_epoch, epochs=self.num_epochs, verbose=1, \n\u001b[1;32m    129\u001b[0m                             \u001b[0mcallbacks\u001b[0m\u001b[0;34m=\u001b[0m\u001b[0mcallbacks_list\u001b[0m\u001b[0;34m,\u001b[0m \u001b[0mvalidation_data\u001b[0m\u001b[0;34m=\u001b[0m\u001b[0mval_generator\u001b[0m\u001b[0;34m,\u001b[0m\u001b[0;34m\u001b[0m\u001b[0;34m\u001b[0m\u001b[0m\n\u001b[0;32m--> 130\u001b[0;31m                             validation_steps=validation_steps, class_weight=None, workers=1, initial_epoch=0)\n\u001b[0m\u001b[1;32m    131\u001b[0m         \u001b[0;32mreturn\u001b[0m \u001b[0mhistory\u001b[0m\u001b[0;34m\u001b[0m\u001b[0;34m\u001b[0m\u001b[0m\n\u001b[1;32m    132\u001b[0m \u001b[0;34m\u001b[0m\u001b[0m\n",
      "\u001b[0;32m/mnt/disks/user/anaconda3/lib/python3.6/site-packages/keras/legacy/interfaces.py\u001b[0m in \u001b[0;36mwrapper\u001b[0;34m(*args, **kwargs)\u001b[0m\n\u001b[1;32m     89\u001b[0m                 warnings.warn('Update your `' + object_name +\n\u001b[1;32m     90\u001b[0m                               '` call to the Keras 2 API: ' + signature, stacklevel=2)\n\u001b[0;32m---> 91\u001b[0;31m             \u001b[0;32mreturn\u001b[0m \u001b[0mfunc\u001b[0m\u001b[0;34m(\u001b[0m\u001b[0;34m*\u001b[0m\u001b[0margs\u001b[0m\u001b[0;34m,\u001b[0m \u001b[0;34m**\u001b[0m\u001b[0mkwargs\u001b[0m\u001b[0;34m)\u001b[0m\u001b[0;34m\u001b[0m\u001b[0;34m\u001b[0m\u001b[0m\n\u001b[0m\u001b[1;32m     92\u001b[0m         \u001b[0mwrapper\u001b[0m\u001b[0;34m.\u001b[0m\u001b[0m_original_function\u001b[0m \u001b[0;34m=\u001b[0m \u001b[0mfunc\u001b[0m\u001b[0;34m\u001b[0m\u001b[0;34m\u001b[0m\u001b[0m\n\u001b[1;32m     93\u001b[0m         \u001b[0;32mreturn\u001b[0m \u001b[0mwrapper\u001b[0m\u001b[0;34m\u001b[0m\u001b[0;34m\u001b[0m\u001b[0m\n",
      "\u001b[0;32m/mnt/disks/user/anaconda3/lib/python3.6/site-packages/keras/engine/training.py\u001b[0m in \u001b[0;36mfit_generator\u001b[0;34m(self, generator, steps_per_epoch, epochs, verbose, callbacks, validation_data, validation_steps, class_weight, max_queue_size, workers, use_multiprocessing, shuffle, initial_epoch)\u001b[0m\n\u001b[1;32m   1413\u001b[0m             \u001b[0muse_multiprocessing\u001b[0m\u001b[0;34m=\u001b[0m\u001b[0muse_multiprocessing\u001b[0m\u001b[0;34m,\u001b[0m\u001b[0;34m\u001b[0m\u001b[0;34m\u001b[0m\u001b[0m\n\u001b[1;32m   1414\u001b[0m             \u001b[0mshuffle\u001b[0m\u001b[0;34m=\u001b[0m\u001b[0mshuffle\u001b[0m\u001b[0;34m,\u001b[0m\u001b[0;34m\u001b[0m\u001b[0;34m\u001b[0m\u001b[0m\n\u001b[0;32m-> 1415\u001b[0;31m             initial_epoch=initial_epoch)\n\u001b[0m\u001b[1;32m   1416\u001b[0m \u001b[0;34m\u001b[0m\u001b[0m\n\u001b[1;32m   1417\u001b[0m     \u001b[0;34m@\u001b[0m\u001b[0minterfaces\u001b[0m\u001b[0;34m.\u001b[0m\u001b[0mlegacy_generator_methods_support\u001b[0m\u001b[0;34m\u001b[0m\u001b[0;34m\u001b[0m\u001b[0m\n",
      "\u001b[0;32m/mnt/disks/user/anaconda3/lib/python3.6/site-packages/keras/engine/training_generator.py\u001b[0m in \u001b[0;36mfit_generator\u001b[0;34m(model, generator, steps_per_epoch, epochs, verbose, callbacks, validation_data, validation_steps, class_weight, max_queue_size, workers, use_multiprocessing, shuffle, initial_epoch)\u001b[0m\n\u001b[1;32m    211\u001b[0m                 outs = model.train_on_batch(x, y,\n\u001b[1;32m    212\u001b[0m                                             \u001b[0msample_weight\u001b[0m\u001b[0;34m=\u001b[0m\u001b[0msample_weight\u001b[0m\u001b[0;34m,\u001b[0m\u001b[0;34m\u001b[0m\u001b[0;34m\u001b[0m\u001b[0m\n\u001b[0;32m--> 213\u001b[0;31m                                             class_weight=class_weight)\n\u001b[0m\u001b[1;32m    214\u001b[0m \u001b[0;34m\u001b[0m\u001b[0m\n\u001b[1;32m    215\u001b[0m                 \u001b[0mouts\u001b[0m \u001b[0;34m=\u001b[0m \u001b[0mto_list\u001b[0m\u001b[0;34m(\u001b[0m\u001b[0mouts\u001b[0m\u001b[0;34m)\u001b[0m\u001b[0;34m\u001b[0m\u001b[0;34m\u001b[0m\u001b[0m\n",
      "\u001b[0;32m/mnt/disks/user/anaconda3/lib/python3.6/site-packages/keras/engine/training.py\u001b[0m in \u001b[0;36mtrain_on_batch\u001b[0;34m(self, x, y, sample_weight, class_weight)\u001b[0m\n\u001b[1;32m   1213\u001b[0m             \u001b[0mins\u001b[0m \u001b[0;34m=\u001b[0m \u001b[0mx\u001b[0m \u001b[0;34m+\u001b[0m \u001b[0my\u001b[0m \u001b[0;34m+\u001b[0m \u001b[0msample_weights\u001b[0m\u001b[0;34m\u001b[0m\u001b[0;34m\u001b[0m\u001b[0m\n\u001b[1;32m   1214\u001b[0m         \u001b[0mself\u001b[0m\u001b[0;34m.\u001b[0m\u001b[0m_make_train_function\u001b[0m\u001b[0;34m(\u001b[0m\u001b[0;34m)\u001b[0m\u001b[0;34m\u001b[0m\u001b[0;34m\u001b[0m\u001b[0m\n\u001b[0;32m-> 1215\u001b[0;31m         \u001b[0moutputs\u001b[0m \u001b[0;34m=\u001b[0m \u001b[0mself\u001b[0m\u001b[0;34m.\u001b[0m\u001b[0mtrain_function\u001b[0m\u001b[0;34m(\u001b[0m\u001b[0mins\u001b[0m\u001b[0;34m)\u001b[0m\u001b[0;34m\u001b[0m\u001b[0;34m\u001b[0m\u001b[0m\n\u001b[0m\u001b[1;32m   1216\u001b[0m         \u001b[0;32mreturn\u001b[0m \u001b[0munpack_singleton\u001b[0m\u001b[0;34m(\u001b[0m\u001b[0moutputs\u001b[0m\u001b[0;34m)\u001b[0m\u001b[0;34m\u001b[0m\u001b[0;34m\u001b[0m\u001b[0m\n\u001b[1;32m   1217\u001b[0m \u001b[0;34m\u001b[0m\u001b[0m\n",
      "\u001b[0;32m/mnt/disks/user/anaconda3/lib/python3.6/site-packages/keras/backend/tensorflow_backend.py\u001b[0m in \u001b[0;36m__call__\u001b[0;34m(self, inputs)\u001b[0m\n\u001b[1;32m   2664\u001b[0m                 \u001b[0;32mreturn\u001b[0m \u001b[0mself\u001b[0m\u001b[0;34m.\u001b[0m\u001b[0m_legacy_call\u001b[0m\u001b[0;34m(\u001b[0m\u001b[0minputs\u001b[0m\u001b[0;34m)\u001b[0m\u001b[0;34m\u001b[0m\u001b[0;34m\u001b[0m\u001b[0m\n\u001b[1;32m   2665\u001b[0m \u001b[0;34m\u001b[0m\u001b[0m\n\u001b[0;32m-> 2666\u001b[0;31m             \u001b[0;32mreturn\u001b[0m \u001b[0mself\u001b[0m\u001b[0;34m.\u001b[0m\u001b[0m_call\u001b[0m\u001b[0;34m(\u001b[0m\u001b[0minputs\u001b[0m\u001b[0;34m)\u001b[0m\u001b[0;34m\u001b[0m\u001b[0;34m\u001b[0m\u001b[0m\n\u001b[0m\u001b[1;32m   2667\u001b[0m         \u001b[0;32melse\u001b[0m\u001b[0;34m:\u001b[0m\u001b[0;34m\u001b[0m\u001b[0;34m\u001b[0m\u001b[0m\n\u001b[1;32m   2668\u001b[0m             \u001b[0;32mif\u001b[0m \u001b[0mpy_any\u001b[0m\u001b[0;34m(\u001b[0m\u001b[0mis_tensor\u001b[0m\u001b[0;34m(\u001b[0m\u001b[0mx\u001b[0m\u001b[0;34m)\u001b[0m \u001b[0;32mfor\u001b[0m \u001b[0mx\u001b[0m \u001b[0;32min\u001b[0m \u001b[0minputs\u001b[0m\u001b[0;34m)\u001b[0m\u001b[0;34m:\u001b[0m\u001b[0;34m\u001b[0m\u001b[0;34m\u001b[0m\u001b[0m\n",
      "\u001b[0;32m/mnt/disks/user/anaconda3/lib/python3.6/site-packages/keras/backend/tensorflow_backend.py\u001b[0m in \u001b[0;36m_call\u001b[0;34m(self, inputs)\u001b[0m\n\u001b[1;32m   2634\u001b[0m                                 \u001b[0msymbol_vals\u001b[0m\u001b[0;34m,\u001b[0m\u001b[0;34m\u001b[0m\u001b[0;34m\u001b[0m\u001b[0m\n\u001b[1;32m   2635\u001b[0m                                 session)\n\u001b[0;32m-> 2636\u001b[0;31m         \u001b[0mfetched\u001b[0m \u001b[0;34m=\u001b[0m \u001b[0mself\u001b[0m\u001b[0;34m.\u001b[0m\u001b[0m_callable_fn\u001b[0m\u001b[0;34m(\u001b[0m\u001b[0;34m*\u001b[0m\u001b[0marray_vals\u001b[0m\u001b[0;34m)\u001b[0m\u001b[0;34m\u001b[0m\u001b[0;34m\u001b[0m\u001b[0m\n\u001b[0m\u001b[1;32m   2637\u001b[0m         \u001b[0;32mreturn\u001b[0m \u001b[0mfetched\u001b[0m\u001b[0;34m[\u001b[0m\u001b[0;34m:\u001b[0m\u001b[0mlen\u001b[0m\u001b[0;34m(\u001b[0m\u001b[0mself\u001b[0m\u001b[0;34m.\u001b[0m\u001b[0moutputs\u001b[0m\u001b[0;34m)\u001b[0m\u001b[0;34m]\u001b[0m\u001b[0;34m\u001b[0m\u001b[0;34m\u001b[0m\u001b[0m\n\u001b[1;32m   2638\u001b[0m \u001b[0;34m\u001b[0m\u001b[0m\n",
      "\u001b[0;32m/mnt/disks/user/anaconda3/lib/python3.6/site-packages/tensorflow/python/client/session.py\u001b[0m in \u001b[0;36m__call__\u001b[0;34m(self, *args, **kwargs)\u001b[0m\n\u001b[1;32m   1380\u001b[0m           ret = tf_session.TF_SessionRunCallable(\n\u001b[1;32m   1381\u001b[0m               \u001b[0mself\u001b[0m\u001b[0;34m.\u001b[0m\u001b[0m_session\u001b[0m\u001b[0;34m.\u001b[0m\u001b[0m_session\u001b[0m\u001b[0;34m,\u001b[0m \u001b[0mself\u001b[0m\u001b[0;34m.\u001b[0m\u001b[0m_handle\u001b[0m\u001b[0;34m,\u001b[0m \u001b[0margs\u001b[0m\u001b[0;34m,\u001b[0m \u001b[0mstatus\u001b[0m\u001b[0;34m,\u001b[0m\u001b[0;34m\u001b[0m\u001b[0;34m\u001b[0m\u001b[0m\n\u001b[0;32m-> 1382\u001b[0;31m               run_metadata_ptr)\n\u001b[0m\u001b[1;32m   1383\u001b[0m         \u001b[0;32mif\u001b[0m \u001b[0mrun_metadata\u001b[0m\u001b[0;34m:\u001b[0m\u001b[0;34m\u001b[0m\u001b[0;34m\u001b[0m\u001b[0m\n\u001b[1;32m   1384\u001b[0m           \u001b[0mproto_data\u001b[0m \u001b[0;34m=\u001b[0m \u001b[0mtf_session\u001b[0m\u001b[0;34m.\u001b[0m\u001b[0mTF_GetBuffer\u001b[0m\u001b[0;34m(\u001b[0m\u001b[0mrun_metadata_ptr\u001b[0m\u001b[0;34m)\u001b[0m\u001b[0;34m\u001b[0m\u001b[0;34m\u001b[0m\u001b[0m\n",
      "\u001b[0;32m/mnt/disks/user/anaconda3/lib/python3.6/site-packages/tensorflow/python/framework/errors_impl.py\u001b[0m in \u001b[0;36m__exit__\u001b[0;34m(self, type_arg, value_arg, traceback_arg)\u001b[0m\n\u001b[1;32m    517\u001b[0m             \u001b[0;32mNone\u001b[0m\u001b[0;34m,\u001b[0m \u001b[0;32mNone\u001b[0m\u001b[0;34m,\u001b[0m\u001b[0;34m\u001b[0m\u001b[0;34m\u001b[0m\u001b[0m\n\u001b[1;32m    518\u001b[0m             \u001b[0mcompat\u001b[0m\u001b[0;34m.\u001b[0m\u001b[0mas_text\u001b[0m\u001b[0;34m(\u001b[0m\u001b[0mc_api\u001b[0m\u001b[0;34m.\u001b[0m\u001b[0mTF_Message\u001b[0m\u001b[0;34m(\u001b[0m\u001b[0mself\u001b[0m\u001b[0;34m.\u001b[0m\u001b[0mstatus\u001b[0m\u001b[0;34m.\u001b[0m\u001b[0mstatus\u001b[0m\u001b[0;34m)\u001b[0m\u001b[0;34m)\u001b[0m\u001b[0;34m,\u001b[0m\u001b[0;34m\u001b[0m\u001b[0;34m\u001b[0m\u001b[0m\n\u001b[0;32m--> 519\u001b[0;31m             c_api.TF_GetCode(self.status.status))\n\u001b[0m\u001b[1;32m    520\u001b[0m     \u001b[0;31m# Delete the underlying status object from memory otherwise it stays alive\u001b[0m\u001b[0;34m\u001b[0m\u001b[0;34m\u001b[0m\u001b[0;34m\u001b[0m\u001b[0m\n\u001b[1;32m    521\u001b[0m     \u001b[0;31m# as there is a reference to status from this from the traceback due to\u001b[0m\u001b[0;34m\u001b[0m\u001b[0;34m\u001b[0m\u001b[0;34m\u001b[0m\u001b[0m\n",
      "\u001b[0;31mResourceExhaustedError\u001b[0m: OOM when allocating tensor with shape[50,16,20,160,160] and type float on /job:localhost/replica:0/task:0/device:GPU:0 by allocator GPU_0_bfc\n\t [[Node: training_11/Adam/gradients/max_pooling3d_49/MaxPool3D_grad/MaxPool3DGrad = MaxPool3DGrad[T=DT_FLOAT, TInput=DT_FLOAT, _class=[\"loc:@train.../cond_grad\"], data_format=\"NDHWC\", ksize=[1, 2, 2, 2, 1], padding=\"VALID\", strides=[1, 2, 2, 2, 1], _device=\"/job:localhost/replica:0/task:0/device:GPU:0\"](batch_normalization_73/cond/Merge, max_pooling3d_49/MaxPool3D, training_11/Adam/gradients/conv3d_50/convolution_grad/Conv3DBackpropInputV2)]]\nHint: If you want to see a list of allocated tensors when OOM happens, add report_tensor_allocations_upon_oom to RunOptions for current allocation info.\n"
     ]
    }
   ],
   "source": [
    "conv_3d=ModelConv3D()\n",
    "conv_3d.initialize_path()\n",
    "conv_3d.initialize_image_properties(image_height=160,image_width=160)\n",
    "conv_3d.initialize_hyperparams(frames_to_sample=20,batch_size=50,num_epochs=3)\n",
    "conv_3d_model=conv_3d.define_model()\n",
    "print(\"Total Params:\", conv_3d_model.count_params())\n",
    "conv_3d.train_model(conv_3d_model)"
   ]
  },
  {
   "cell_type": "code",
   "execution_count": 22,
   "metadata": {},
   "outputs": [
    {
     "name": "stdout",
     "output_type": "stream",
     "text": [
      "Memory util is 3.051757961511612 Gigas\n"
     ]
    }
   ],
   "source": [
    "print(\"Memory util is {} Gigas\". format(getsizeof(np.zeros((50,16,20,160,160)))/(1024*1024*1024)))"
   ]
  },
  {
   "cell_type": "code",
   "execution_count": 23,
   "metadata": {},
   "outputs": [
    {
     "name": "stdout",
     "output_type": "stream",
     "text": [
      "Memory util is 3.662109524011612 Gigas\n"
     ]
    }
   ],
   "source": [
    "print(\"Memory util is {} Gigas\". format(getsizeof(np.zeros((40,16,30,160,160)))/(1024*1024*1024)))"
   ]
  },
  {
   "cell_type": "markdown",
   "metadata": {},
   "source": [
    "#### We had limit on memory resources with image resolution 160x160 with 30 frames , batch size 40 "
   ]
  },
  {
   "cell_type": "markdown",
   "metadata": {},
   "source": [
    "### Model 1: Starting with Model Batch 40 and no of epochs 15"
   ]
  },
  {
   "cell_type": "code",
   "execution_count": 24,
   "metadata": {},
   "outputs": [],
   "source": [
    "class ModelConv3D(ModelBuilder):\n",
    "    \n",
    "    def define_model(self,filtersize,dense_neurons,dropout):\n",
    "\n",
    "        model = Sequential()\n",
    "        model.add(Conv3D(16, filtersize, padding='same',\n",
    "                 input_shape=(self.frames_to_sample,self.image_height,self.image_width,self.channels)))\n",
    "        model.add(Activation('relu'))\n",
    "        model.add(BatchNormalization())\n",
    "        model.add(MaxPooling3D(pool_size=(2, 2, 2)))\n",
    "\n",
    "        model.add(Conv3D(32, filtersize, padding='same'))\n",
    "        model.add(Activation('relu'))\n",
    "        model.add(BatchNormalization())\n",
    "        model.add(MaxPooling3D(pool_size=(2, 2, 2)))\n",
    "\n",
    "        model.add(Conv3D(64, filtersize, padding='same'))\n",
    "        model.add(Activation('relu'))\n",
    "        model.add(BatchNormalization())\n",
    "        model.add(MaxPooling3D(pool_size=(2, 2, 2)))\n",
    "\n",
    "        model.add(Conv3D(128, filtersize, padding='same'))\n",
    "        model.add(Activation('relu'))\n",
    "        model.add(BatchNormalization())\n",
    "        model.add(MaxPooling3D(pool_size=(2, 2, 2)))\n",
    "\n",
    "        model.add(Flatten())\n",
    "        model.add(Dense(dense_neurons,activation='relu'))\n",
    "        model.add(BatchNormalization())\n",
    "        model.add(Dropout(dropout))\n",
    "\n",
    "        model.add(Dense(dense_neurons,activation='relu'))\n",
    "        model.add(BatchNormalization())\n",
    "        model.add(Dropout(dropout))\n",
    "\n",
    "\n",
    "        model.add(Dense(self.num_classes,activation='softmax'))\n",
    "\n",
    "        optimiser = optimizers.Adam()\n",
    "        model.compile(optimizer=optimiser, loss='categorical_crossentropy', metrics=['categorical_accuracy'])\n",
    "        return model"
   ]
  },
  {
   "cell_type": "code",
   "execution_count": 25,
   "metadata": {},
   "outputs": [
    {
     "name": "stdout",
     "output_type": "stream",
     "text": [
      "_________________________________________________________________\n",
      "Layer (type)                 Output Shape              Param #   \n",
      "=================================================================\n",
      "conv3d_53 (Conv3D)           (None, 20, 160, 160, 16)  1312      \n",
      "_________________________________________________________________\n",
      "activation_53 (Activation)   (None, 20, 160, 160, 16)  0         \n",
      "_________________________________________________________________\n",
      "batch_normalization_79 (Batc (None, 20, 160, 160, 16)  64        \n",
      "_________________________________________________________________\n",
      "max_pooling3d_53 (MaxPooling (None, 10, 80, 80, 16)    0         \n",
      "_________________________________________________________________\n",
      "conv3d_54 (Conv3D)           (None, 10, 80, 80, 32)    13856     \n",
      "_________________________________________________________________\n",
      "activation_54 (Activation)   (None, 10, 80, 80, 32)    0         \n",
      "_________________________________________________________________\n",
      "batch_normalization_80 (Batc (None, 10, 80, 80, 32)    128       \n",
      "_________________________________________________________________\n",
      "max_pooling3d_54 (MaxPooling (None, 5, 40, 40, 32)     0         \n",
      "_________________________________________________________________\n",
      "conv3d_55 (Conv3D)           (None, 5, 40, 40, 64)     55360     \n",
      "_________________________________________________________________\n",
      "activation_55 (Activation)   (None, 5, 40, 40, 64)     0         \n",
      "_________________________________________________________________\n",
      "batch_normalization_81 (Batc (None, 5, 40, 40, 64)     256       \n",
      "_________________________________________________________________\n",
      "max_pooling3d_55 (MaxPooling (None, 2, 20, 20, 64)     0         \n",
      "_________________________________________________________________\n",
      "conv3d_56 (Conv3D)           (None, 2, 20, 20, 128)    221312    \n",
      "_________________________________________________________________\n",
      "activation_56 (Activation)   (None, 2, 20, 20, 128)    0         \n",
      "_________________________________________________________________\n",
      "batch_normalization_82 (Batc (None, 2, 20, 20, 128)    512       \n",
      "_________________________________________________________________\n",
      "max_pooling3d_56 (MaxPooling (None, 1, 10, 10, 128)    0         \n",
      "_________________________________________________________________\n",
      "flatten_14 (Flatten)         (None, 12800)             0         \n",
      "_________________________________________________________________\n",
      "dense_40 (Dense)             (None, 64)                819264    \n",
      "_________________________________________________________________\n",
      "batch_normalization_83 (Batc (None, 64)                256       \n",
      "_________________________________________________________________\n",
      "dropout_27 (Dropout)         (None, 64)                0         \n",
      "_________________________________________________________________\n",
      "dense_41 (Dense)             (None, 64)                4160      \n",
      "_________________________________________________________________\n",
      "batch_normalization_84 (Batc (None, 64)                256       \n",
      "_________________________________________________________________\n",
      "dropout_28 (Dropout)         (None, 64)                0         \n",
      "_________________________________________________________________\n",
      "dense_42 (Dense)             (None, 5)                 325       \n",
      "=================================================================\n",
      "Total params: 1,117,061\n",
      "Trainable params: 1,116,325\n",
      "Non-trainable params: 736\n",
      "_________________________________________________________________\n"
     ]
    }
   ],
   "source": [
    "conv_3d=ModelConv3D()\n",
    "conv_3d.initialize_path()\n",
    "conv_3d.initialize_image_properties(image_height=160,image_width=160)\n",
    "conv_3d.initialize_hyperparams(frames_to_sample=20,batch_size=40,num_epochs=15)\n",
    "conv_3d_model=conv_3d.define_model(filtersize=(3,3,3),dense_neurons=64,dropout=0.25)\n",
    "conv_3d_model.summary()"
   ]
  },
  {
   "cell_type": "code",
   "execution_count": 26,
   "metadata": {},
   "outputs": [
    {
     "name": "stdout",
     "output_type": "stream",
     "text": [
      "Total Params: 1117061\n",
      "Epoch 1/15\n",
      "17/17 [==============================] - 87s 5s/step - loss: 1.6393 - categorical_accuracy: 0.4119 - val_loss: 8.6884 - val_categorical_accuracy: 0.2157\n",
      "\n",
      "Epoch 00001: val_loss improved from inf to 8.68840, saving model to model_init_2020-09-1304_38_15.701119/model-00001-1.63906-0.41026-8.68840-0.21569.h5\n",
      "Epoch 2/15\n",
      "17/17 [==============================] - 62s 4s/step - loss: 1.1239 - categorical_accuracy: 0.5889 - val_loss: 3.9695 - val_categorical_accuracy: 0.3454\n",
      "\n",
      "Epoch 00002: val_loss improved from 8.68840 to 3.96949, saving model to model_init_2020-09-1304_38_15.701119/model-00002-1.12802-0.58522-3.96949-0.34540.h5\n",
      "Epoch 3/15\n",
      "17/17 [==============================] - 67s 4s/step - loss: 0.8626 - categorical_accuracy: 0.6815 - val_loss: 0.6886 - val_categorical_accuracy: 0.7285\n",
      "\n",
      "Epoch 00003: val_loss improved from 3.96949 to 0.68861, saving model to model_init_2020-09-1304_38_15.701119/model-00003-0.86269-0.68326-0.68861-0.72851.h5\n",
      "Epoch 4/15\n",
      "17/17 [==============================] - 64s 4s/step - loss: 0.6934 - categorical_accuracy: 0.7581 - val_loss: 0.4658 - val_categorical_accuracy: 0.8326\n",
      "\n",
      "Epoch 00004: val_loss improved from 0.68861 to 0.46581, saving model to model_init_2020-09-1304_38_15.701119/model-00004-0.67775-0.76169-0.46581-0.83258.h5\n",
      "Epoch 5/15\n",
      "17/17 [==============================] - 64s 4s/step - loss: 0.5008 - categorical_accuracy: 0.8226 - val_loss: 0.3075 - val_categorical_accuracy: 0.9170\n",
      "\n",
      "Epoch 00005: val_loss improved from 0.46581 to 0.30748, saving model to model_init_2020-09-1304_38_15.701119/model-00005-0.50007-0.82353-0.30748-0.91704.h5\n",
      "Epoch 6/15\n",
      "17/17 [==============================] - 65s 4s/step - loss: 0.4297 - categorical_accuracy: 0.8600 - val_loss: 0.3348 - val_categorical_accuracy: 0.8959\n",
      "\n",
      "Epoch 00006: val_loss did not improve from 0.30748\n",
      "Epoch 7/15\n",
      "17/17 [==============================] - 65s 4s/step - loss: 0.3150 - categorical_accuracy: 0.8934 - val_loss: 0.3421 - val_categorical_accuracy: 0.8914\n",
      "\n",
      "Epoch 00007: val_loss did not improve from 0.30748\n",
      "Epoch 8/15\n",
      "17/17 [==============================] - 64s 4s/step - loss: 0.2292 - categorical_accuracy: 0.9298 - val_loss: 0.2620 - val_categorical_accuracy: 0.9110\n",
      "\n",
      "Epoch 00008: val_loss improved from 0.30748 to 0.26204, saving model to model_init_2020-09-1304_38_15.701119/model-00008-0.22969-0.92911-0.26204-0.91101.h5\n",
      "Epoch 9/15\n",
      "17/17 [==============================] - 64s 4s/step - loss: 0.1896 - categorical_accuracy: 0.9499 - val_loss: 0.4817 - val_categorical_accuracy: 0.7964\n",
      "\n",
      "Epoch 00009: val_loss did not improve from 0.26204\n",
      "Epoch 10/15\n",
      "17/17 [==============================] - 64s 4s/step - loss: 0.1331 - categorical_accuracy: 0.9705 - val_loss: 0.6336 - val_categorical_accuracy: 0.7255\n",
      "\n",
      "Epoch 00010: val_loss did not improve from 0.26204\n",
      "Epoch 11/15\n",
      "17/17 [==============================] - 64s 4s/step - loss: 0.1360 - categorical_accuracy: 0.9735 - val_loss: 0.2804 - val_categorical_accuracy: 0.9005\n",
      "\n",
      "Epoch 00011: val_loss did not improve from 0.26204\n",
      "Epoch 12/15\n",
      "17/17 [==============================] - 66s 4s/step - loss: 0.1113 - categorical_accuracy: 0.9735 - val_loss: 0.1739 - val_categorical_accuracy: 0.9548\n",
      "\n",
      "Epoch 00012: val_loss improved from 0.26204 to 0.17385, saving model to model_init_2020-09-1304_38_15.701119/model-00012-0.11105-0.97285-0.17385-0.95475.h5\n",
      "Epoch 13/15\n",
      "17/17 [==============================] - 65s 4s/step - loss: 0.0809 - categorical_accuracy: 0.9897 - val_loss: 0.2373 - val_categorical_accuracy: 0.9231\n",
      "\n",
      "Epoch 00013: val_loss did not improve from 0.17385\n",
      "Epoch 14/15\n",
      "17/17 [==============================] - 64s 4s/step - loss: 0.0599 - categorical_accuracy: 0.9926 - val_loss: 0.2049 - val_categorical_accuracy: 0.9351\n",
      "\n",
      "Epoch 00014: val_loss did not improve from 0.17385\n",
      "Epoch 15/15\n",
      "17/17 [==============================] - 63s 4s/step - loss: 0.0690 - categorical_accuracy: 0.9867 - val_loss: 0.2137 - val_categorical_accuracy: 0.9321\n",
      "\n",
      "Epoch 00015: val_loss did not improve from 0.17385\n"
     ]
    }
   ],
   "source": [
    "print(\"Total Params:\", conv_3d_model.count_params())\n",
    "history_model1 = conv_3d.train_model(conv_3d_model)"
   ]
  },
  {
   "cell_type": "code",
   "execution_count": 27,
   "metadata": {},
   "outputs": [],
   "source": [
    "# function to plot the training/validation accuracies/losses.\n",
    "\n",
    "def plot(history):\n",
    "    fig, axes = plt.subplots(nrows=1, ncols=2, figsize=(15,4))\n",
    "    axes[0].plot(history.history['loss'])   \n",
    "    axes[0].plot(history.history['val_loss'])\n",
    "    axes[0].legend(['loss','val_loss'])\n",
    "\n",
    "    axes[1].plot(history.history['categorical_accuracy'])   \n",
    "    axes[1].plot(history.history['val_categorical_accuracy'])\n",
    "    axes[1].legend(['categorical_accuracy','val_categorical_accuracy'])"
   ]
  },
  {
   "cell_type": "code",
   "execution_count": 28,
   "metadata": {},
   "outputs": [
    {
     "data": {
      "image/png": "[encoded data removed]",
      "text/plain": [
       "<Figure size 1080x288 with 2 Axes>"
      ]
     },
     "metadata": {},
     "output_type": "display_data"
    }
   ],
   "source": [
    "plot(history_model1)"
   ]
  },
  {
   "cell_type": "markdown",
   "metadata": {},
   "source": [
    "### Model is overfitting !!!"
   ]
  },
  {
   "cell_type": "markdown",
   "metadata": {},
   "source": [
    "### Model 2: Modifying drop out to 0.5, increasing neuron density, Batch 20 and no of epochs 15"
   ]
  },
  {
   "cell_type": "code",
   "execution_count": 29,
   "metadata": {},
   "outputs": [
    {
     "name": "stdout",
     "output_type": "stream",
     "text": [
      "_________________________________________________________________\n",
      "Layer (type)                 Output Shape              Param #   \n",
      "=================================================================\n",
      "conv3d_57 (Conv3D)           (None, 20, 160, 160, 16)  1312      \n",
      "_________________________________________________________________\n",
      "activation_57 (Activation)   (None, 20, 160, 160, 16)  0         \n",
      "_________________________________________________________________\n",
      "batch_normalization_85 (Batc (None, 20, 160, 160, 16)  64        \n",
      "_________________________________________________________________\n",
      "max_pooling3d_57 (MaxPooling (None, 10, 80, 80, 16)    0         \n",
      "_________________________________________________________________\n",
      "conv3d_58 (Conv3D)           (None, 10, 80, 80, 32)    13856     \n",
      "_________________________________________________________________\n",
      "activation_58 (Activation)   (None, 10, 80, 80, 32)    0         \n",
      "_________________________________________________________________\n",
      "batch_normalization_86 (Batc (None, 10, 80, 80, 32)    128       \n",
      "_________________________________________________________________\n",
      "max_pooling3d_58 (MaxPooling (None, 5, 40, 40, 32)     0         \n",
      "_________________________________________________________________\n",
      "conv3d_59 (Conv3D)           (None, 5, 40, 40, 64)     55360     \n",
      "_________________________________________________________________\n",
      "activation_59 (Activation)   (None, 5, 40, 40, 64)     0         \n",
      "_________________________________________________________________\n",
      "batch_normalization_87 (Batc (None, 5, 40, 40, 64)     256       \n",
      "_________________________________________________________________\n",
      "max_pooling3d_59 (MaxPooling (None, 2, 20, 20, 64)     0         \n",
      "_________________________________________________________________\n",
      "conv3d_60 (Conv3D)           (None, 2, 20, 20, 128)    221312    \n",
      "_________________________________________________________________\n",
      "activation_60 (Activation)   (None, 2, 20, 20, 128)    0         \n",
      "_________________________________________________________________\n",
      "batch_normalization_88 (Batc (None, 2, 20, 20, 128)    512       \n",
      "_________________________________________________________________\n",
      "max_pooling3d_60 (MaxPooling (None, 1, 10, 10, 128)    0         \n",
      "_________________________________________________________________\n",
      "flatten_15 (Flatten)         (None, 12800)             0         \n",
      "_________________________________________________________________\n",
      "dense_43 (Dense)             (None, 256)               3277056   \n",
      "_________________________________________________________________\n",
      "batch_normalization_89 (Batc (None, 256)               1024      \n",
      "_________________________________________________________________\n",
      "dropout_29 (Dropout)         (None, 256)               0         \n",
      "_________________________________________________________________\n",
      "dense_44 (Dense)             (None, 256)               65792     \n",
      "_________________________________________________________________\n",
      "batch_normalization_90 (Batc (None, 256)               1024      \n",
      "_________________________________________________________________\n",
      "dropout_30 (Dropout)         (None, 256)               0         \n",
      "_________________________________________________________________\n",
      "dense_45 (Dense)             (None, 5)                 1285      \n",
      "=================================================================\n",
      "Total params: 3,638,981\n",
      "Trainable params: 3,637,477\n",
      "Non-trainable params: 1,504\n",
      "_________________________________________________________________\n"
     ]
    }
   ],
   "source": [
    "conv_3d=ModelConv3D()\n",
    "conv_3d.initialize_path()\n",
    "conv_3d.initialize_image_properties(image_height=160,image_width=160)\n",
    "conv_3d.initialize_hyperparams(frames_to_sample=20,batch_size=20,num_epochs=15)\n",
    "conv_3d_model=conv_3d.define_model(filtersize=(3,3,3),dense_neurons=256,dropout=0.5)\n",
    "conv_3d_model.summary()"
   ]
  },
  {
   "cell_type": "code",
   "execution_count": 30,
   "metadata": {},
   "outputs": [
    {
     "name": "stdout",
     "output_type": "stream",
     "text": [
      "Total Params: 3638981\n",
      "Epoch 1/15\n",
      "34/34 [==============================] - 139s 4s/step - loss: 1.8767 - categorical_accuracy: 0.4088 - val_loss: 1.1506 - val_categorical_accuracy: 0.5958\n",
      "\n",
      "Epoch 00001: val_loss improved from inf to 1.15059, saving model to model_init_2020-09-1304_54_58.446133/model-00001-1.88286-0.40649-1.15059-0.59578.h5\n",
      "Epoch 2/15\n",
      "34/34 [==============================] - 111s 3s/step - loss: 1.4473 - categorical_accuracy: 0.4882 - val_loss: 0.9818 - val_categorical_accuracy: 0.7104\n",
      "\n",
      "Epoch 00002: val_loss improved from 1.15059 to 0.98177, saving model to model_init_2020-09-1304_54_58.446133/model-00002-1.43790-0.49623-0.98177-0.71041.h5\n",
      "Epoch 3/15\n",
      "34/34 [==============================] - 115s 3s/step - loss: 1.2111 - categorical_accuracy: 0.5802 - val_loss: 2.3592 - val_categorical_accuracy: 0.4646\n",
      "\n",
      "Epoch 00003: val_loss did not improve from 0.98177\n",
      "Epoch 4/15\n",
      "34/34 [==============================] - 110s 3s/step - loss: 1.0618 - categorical_accuracy: 0.6247 - val_loss: 1.5269 - val_categorical_accuracy: 0.5566\n",
      "\n",
      "Epoch 00004: val_loss did not improve from 0.98177\n",
      "Epoch 5/15\n",
      "34/34 [==============================] - 113s 3s/step - loss: 0.8691 - categorical_accuracy: 0.6876 - val_loss: 4.1078 - val_categorical_accuracy: 0.3544\n",
      "\n",
      "Epoch 00005: val_loss did not improve from 0.98177\n",
      "Epoch 6/15\n",
      "34/34 [==============================] - 117s 3s/step - loss: 0.7579 - categorical_accuracy: 0.7104 - val_loss: 0.3571 - val_categorical_accuracy: 0.8477\n",
      "\n",
      "Epoch 00006: val_loss improved from 0.98177 to 0.35713, saving model to model_init_2020-09-1304_54_58.446133/model-00006-0.76338-0.70739-0.35713-0.84766.h5\n",
      "Epoch 7/15\n",
      "34/34 [==============================] - 113s 3s/step - loss: 0.7552 - categorical_accuracy: 0.7226 - val_loss: 0.8266 - val_categorical_accuracy: 0.7255\n",
      "\n",
      "Epoch 00007: val_loss did not improve from 0.35713\n",
      "Epoch 8/15\n",
      "34/34 [==============================] - 115s 3s/step - loss: 0.8553 - categorical_accuracy: 0.6799 - val_loss: 2.2667 - val_categorical_accuracy: 0.5249\n",
      "\n",
      "Epoch 00008: val_loss did not improve from 0.35713\n",
      "Epoch 9/15\n",
      "34/34 [==============================] - 119s 4s/step - loss: 0.7575 - categorical_accuracy: 0.7233 - val_loss: 1.4939 - val_categorical_accuracy: 0.6998\n",
      "\n",
      "Epoch 00009: val_loss did not improve from 0.35713\n",
      "Epoch 10/15\n",
      "34/34 [==============================] - 116s 3s/step - loss: 0.8746 - categorical_accuracy: 0.6987 - val_loss: 1.7574 - val_categorical_accuracy: 0.6425\n",
      "\n",
      "Epoch 00010: val_loss did not improve from 0.35713\n",
      "\n",
      "Epoch 00010: ReduceLROnPlateau reducing learning rate to 0.00020000000949949026.\n",
      "Epoch 11/15\n",
      "34/34 [==============================] - 114s 3s/step - loss: 0.6022 - categorical_accuracy: 0.7535 - val_loss: 1.4889 - val_categorical_accuracy: 0.6365\n",
      "\n",
      "Epoch 00011: val_loss did not improve from 0.35713\n",
      "Epoch 12/15\n",
      "34/34 [==============================] - 114s 3s/step - loss: 0.5433 - categorical_accuracy: 0.7921 - val_loss: 0.7879 - val_categorical_accuracy: 0.7360\n",
      "\n",
      "Epoch 00012: val_loss did not improve from 0.35713\n",
      "Epoch 13/15\n",
      "34/34 [==============================] - 112s 3s/step - loss: 0.5672 - categorical_accuracy: 0.7826 - val_loss: 0.8284 - val_categorical_accuracy: 0.7059\n",
      "\n",
      "Epoch 00013: val_loss did not improve from 0.35713\n",
      "Epoch 14/15\n",
      "34/34 [==============================] - 113s 3s/step - loss: 0.4332 - categorical_accuracy: 0.8521 - val_loss: 0.4750 - val_categorical_accuracy: 0.8220\n",
      "\n",
      "Epoch 00014: val_loss did not improve from 0.35713\n",
      "\n",
      "Epoch 00014: ReduceLROnPlateau reducing learning rate to 4.0000001899898055e-05.\n",
      "Epoch 15/15\n",
      "34/34 [==============================] - 114s 3s/step - loss: 0.4316 - categorical_accuracy: 0.8370 - val_loss: 0.3265 - val_categorical_accuracy: 0.8763\n",
      "\n",
      "Epoch 00015: val_loss improved from 0.35713 to 0.32654, saving model to model_init_2020-09-1304_54_58.446133/model-00015-0.43334-0.83710-0.32654-0.87632.h5\n"
     ]
    }
   ],
   "source": [
    "print(\"Total Params:\", conv_3d_model.count_params())\n",
    "history_model2=conv_3d.train_model(conv_3d_model,augment_data=True)"
   ]
  },
  {
   "cell_type": "code",
   "execution_count": 31,
   "metadata": {},
   "outputs": [
    {
     "data": {
      "image/png": "[encoded data removed]",
      "text/plain": [
       "<Figure size 1080x288 with 2 Axes>"
      ]
     },
     "metadata": {},
     "output_type": "display_data"
    }
   ],
   "source": [
    "plot(history_model2)"
   ]
  },
  {
   "cell_type": "markdown",
   "metadata": {},
   "source": [
    "### val_loss did not improve from 0.35713"
   ]
  },
  {
   "cell_type": "markdown",
   "metadata": {},
   "source": [
    "### Model 3: Introducing learning rate as 0.0002, reducing filter size to (2,2,2), batch size 30 and Number of Epochs 15"
   ]
  },
  {
   "cell_type": "code",
   "execution_count": 32,
   "metadata": {},
   "outputs": [],
   "source": [
    "class ModelConv3D(ModelBuilder):\n",
    "    \n",
    "    def define_model(self,filtersize,dense_neurons,dropout):\n",
    "\n",
    "        model = Sequential()\n",
    "        model.add(Conv3D(16, filtersize, padding='same',\n",
    "                 input_shape=(self.frames_to_sample,self.image_height,self.image_width,self.channels)))\n",
    "        model.add(Activation('relu'))\n",
    "        model.add(BatchNormalization())\n",
    "        model.add(MaxPooling3D(pool_size=(2, 2, 2)))\n",
    "\n",
    "        model.add(Conv3D(32, filtersize, padding='same'))\n",
    "        model.add(Activation('relu'))\n",
    "        model.add(BatchNormalization())\n",
    "        model.add(MaxPooling3D(pool_size=(2, 2, 2)))\n",
    "\n",
    "        model.add(Conv3D(64, filtersize, padding='same'))\n",
    "        model.add(Activation('relu'))\n",
    "        model.add(BatchNormalization())\n",
    "        model.add(MaxPooling3D(pool_size=(2, 2, 2)))\n",
    "\n",
    "        model.add(Conv3D(128, filtersize, padding='same'))\n",
    "        model.add(Activation('relu'))\n",
    "        model.add(BatchNormalization())\n",
    "        model.add(MaxPooling3D(pool_size=(2, 2, 2)))\n",
    "\n",
    "        model.add(Flatten())\n",
    "        model.add(Dense(dense_neurons,activation='relu'))\n",
    "        model.add(BatchNormalization())\n",
    "        model.add(Dropout(dropout))\n",
    "\n",
    "        model.add(Dense(dense_neurons,activation='relu'))\n",
    "        model.add(BatchNormalization())\n",
    "        model.add(Dropout(dropout))\n",
    "\n",
    "\n",
    "        model.add(Dense(self.num_classes,activation='softmax'))\n",
    "        \n",
    "        optimiser = optimizers.Adam(lr=0.0002)\n",
    "        model.compile(optimizer=optimiser, loss='categorical_crossentropy', metrics=['categorical_accuracy'])\n",
    "        return model"
   ]
  },
  {
   "cell_type": "code",
   "execution_count": 33,
   "metadata": {},
   "outputs": [
    {
     "name": "stdout",
     "output_type": "stream",
     "text": [
      "_________________________________________________________________\n",
      "Layer (type)                 Output Shape              Param #   \n",
      "=================================================================\n",
      "conv3d_61 (Conv3D)           (None, 20, 120, 120, 16)  400       \n",
      "_________________________________________________________________\n",
      "activation_61 (Activation)   (None, 20, 120, 120, 16)  0         \n",
      "_________________________________________________________________\n",
      "batch_normalization_91 (Batc (None, 20, 120, 120, 16)  64        \n",
      "_________________________________________________________________\n",
      "max_pooling3d_61 (MaxPooling (None, 10, 60, 60, 16)    0         \n",
      "_________________________________________________________________\n",
      "conv3d_62 (Conv3D)           (None, 10, 60, 60, 32)    4128      \n",
      "_________________________________________________________________\n",
      "activation_62 (Activation)   (None, 10, 60, 60, 32)    0         \n",
      "_________________________________________________________________\n",
      "batch_normalization_92 (Batc (None, 10, 60, 60, 32)    128       \n",
      "_________________________________________________________________\n",
      "max_pooling3d_62 (MaxPooling (None, 5, 30, 30, 32)     0         \n",
      "_________________________________________________________________\n",
      "conv3d_63 (Conv3D)           (None, 5, 30, 30, 64)     16448     \n",
      "_________________________________________________________________\n",
      "activation_63 (Activation)   (None, 5, 30, 30, 64)     0         \n",
      "_________________________________________________________________\n",
      "batch_normalization_93 (Batc (None, 5, 30, 30, 64)     256       \n",
      "_________________________________________________________________\n",
      "max_pooling3d_63 (MaxPooling (None, 2, 15, 15, 64)     0         \n",
      "_________________________________________________________________\n",
      "conv3d_64 (Conv3D)           (None, 2, 15, 15, 128)    65664     \n",
      "_________________________________________________________________\n",
      "activation_64 (Activation)   (None, 2, 15, 15, 128)    0         \n",
      "_________________________________________________________________\n",
      "batch_normalization_94 (Batc (None, 2, 15, 15, 128)    512       \n",
      "_________________________________________________________________\n",
      "max_pooling3d_64 (MaxPooling (None, 1, 7, 7, 128)      0         \n",
      "_________________________________________________________________\n",
      "flatten_16 (Flatten)         (None, 6272)              0         \n",
      "_________________________________________________________________\n",
      "dense_46 (Dense)             (None, 256)               1605888   \n",
      "_________________________________________________________________\n",
      "batch_normalization_95 (Batc (None, 256)               1024      \n",
      "_________________________________________________________________\n",
      "dropout_31 (Dropout)         (None, 256)               0         \n",
      "_________________________________________________________________\n",
      "dense_47 (Dense)             (None, 256)               65792     \n",
      "_________________________________________________________________\n",
      "batch_normalization_96 (Batc (None, 256)               1024      \n",
      "_________________________________________________________________\n",
      "dropout_32 (Dropout)         (None, 256)               0         \n",
      "_________________________________________________________________\n",
      "dense_48 (Dense)             (None, 5)                 1285      \n",
      "=================================================================\n",
      "Total params: 1,762,613\n",
      "Trainable params: 1,761,109\n",
      "Non-trainable params: 1,504\n",
      "_________________________________________________________________\n"
     ]
    }
   ],
   "source": [
    "conv_3d=ModelConv3D()\n",
    "conv_3d.initialize_path()\n",
    "conv_3d.initialize_image_properties(image_height=120,image_width=120)\n",
    "conv_3d.initialize_hyperparams(frames_to_sample=20,batch_size=30,num_epochs=15)\n",
    "conv_3d_model=conv_3d.define_model(filtersize=(2,2,2),dense_neurons=256,dropout=0.5)\n",
    "conv_3d_model.summary()"
   ]
  },
  {
   "cell_type": "code",
   "execution_count": 34,
   "metadata": {},
   "outputs": [
    {
     "name": "stdout",
     "output_type": "stream",
     "text": [
      "Total Params: 1762613\n",
      "Epoch 1/15\n",
      "23/23 [==============================] - 111s 5s/step - loss: 2.2679 - categorical_accuracy: 0.3079 - val_loss: 1.2238 - val_categorical_accuracy: 0.5324\n",
      "\n",
      "Epoch 00001: val_loss improved from inf to 1.22379, saving model to model_init_2020-09-1305_24_07.320372/model-00001-2.26586-0.30694-1.22379-0.53243.h5\n",
      "Epoch 2/15\n",
      "23/23 [==============================] - 78s 3s/step - loss: 1.5012 - categorical_accuracy: 0.4955 - val_loss: 0.7376 - val_categorical_accuracy: 0.7315\n",
      "\n",
      "Epoch 00002: val_loss improved from 1.22379 to 0.73764, saving model to model_init_2020-09-1305_24_07.320372/model-00002-1.53851-0.47587-0.73764-0.73152.h5\n",
      "Epoch 3/15\n",
      "23/23 [==============================] - 90s 4s/step - loss: 1.3079 - categorical_accuracy: 0.5404 - val_loss: 0.6588 - val_categorical_accuracy: 0.7903\n",
      "\n",
      "Epoch 00003: val_loss improved from 0.73764 to 0.65880, saving model to model_init_2020-09-1305_24_07.320372/model-00003-1.33332-0.53544-0.65880-0.79035.h5\n",
      "Epoch 4/15\n",
      "23/23 [==============================] - 89s 4s/step - loss: 1.1188 - categorical_accuracy: 0.6214 - val_loss: 0.5226 - val_categorical_accuracy: 0.8190\n",
      "\n",
      "Epoch 00004: val_loss improved from 0.65880 to 0.52261, saving model to model_init_2020-09-1305_24_07.320372/model-00004-1.12835-0.61312-0.52261-0.81900.h5\n",
      "Epoch 5/15\n",
      "23/23 [==============================] - 89s 4s/step - loss: 1.0293 - categorical_accuracy: 0.6328 - val_loss: 0.4218 - val_categorical_accuracy: 0.8507\n",
      "\n",
      "Epoch 00005: val_loss improved from 0.52261 to 0.42177, saving model to model_init_2020-09-1305_24_07.320372/model-00005-1.02733-0.63801-0.42177-0.85068.h5\n",
      "Epoch 6/15\n",
      "23/23 [==============================] - 93s 4s/step - loss: 1.0109 - categorical_accuracy: 0.6426 - val_loss: 0.4624 - val_categorical_accuracy: 0.8039\n",
      "\n",
      "Epoch 00006: val_loss did not improve from 0.42177\n",
      "Epoch 7/15\n",
      "23/23 [==============================] - 91s 4s/step - loss: 0.9539 - categorical_accuracy: 0.6682 - val_loss: 0.3734 - val_categorical_accuracy: 0.8582\n",
      "\n",
      "Epoch 00007: val_loss improved from 0.42177 to 0.37338, saving model to model_init_2020-09-1305_24_07.320372/model-00007-0.89800-0.68778-0.37338-0.85822.h5\n",
      "Epoch 8/15\n",
      "23/23 [==============================] - 89s 4s/step - loss: 0.8848 - categorical_accuracy: 0.6826 - val_loss: 0.2762 - val_categorical_accuracy: 0.9005\n",
      "\n",
      "Epoch 00008: val_loss improved from 0.37338 to 0.27617, saving model to model_init_2020-09-1305_24_07.320372/model-00008-0.88607-0.68326-0.27617-0.90045.h5\n",
      "Epoch 9/15\n",
      "23/23 [==============================] - 90s 4s/step - loss: 0.8780 - categorical_accuracy: 0.6989 - val_loss: 0.2462 - val_categorical_accuracy: 0.9140\n",
      "\n",
      "Epoch 00009: val_loss improved from 0.27617 to 0.24621, saving model to model_init_2020-09-1305_24_07.320372/model-00009-0.79240-0.70664-0.24621-0.91403.h5\n",
      "Epoch 10/15\n",
      "23/23 [==============================] - 90s 4s/step - loss: 0.7782 - categorical_accuracy: 0.7207 - val_loss: 0.2981 - val_categorical_accuracy: 0.8733\n",
      "\n",
      "Epoch 00010: val_loss did not improve from 0.24621\n",
      "Epoch 11/15\n",
      "23/23 [==============================] - 91s 4s/step - loss: 0.7494 - categorical_accuracy: 0.7378 - val_loss: 0.3167 - val_categorical_accuracy: 0.8778\n",
      "\n",
      "Epoch 00011: val_loss did not improve from 0.24621\n",
      "Epoch 12/15\n",
      "23/23 [==============================] - 89s 4s/step - loss: 0.6712 - categorical_accuracy: 0.7709 - val_loss: 0.1963 - val_categorical_accuracy: 0.9276\n",
      "\n",
      "Epoch 00012: val_loss improved from 0.24621 to 0.19632, saving model to model_init_2020-09-1305_24_07.320372/model-00012-0.67097-0.76848-0.19632-0.92760.h5\n",
      "Epoch 13/15\n",
      "23/23 [==============================] - 90s 4s/step - loss: 0.5857 - categorical_accuracy: 0.7988 - val_loss: 0.2938 - val_categorical_accuracy: 0.8869\n",
      "\n",
      "Epoch 00013: val_loss did not improve from 0.19632\n",
      "Epoch 14/15\n",
      "23/23 [==============================] - 88s 4s/step - loss: 0.6969 - categorical_accuracy: 0.7513 - val_loss: 0.2281 - val_categorical_accuracy: 0.9231\n",
      "\n",
      "Epoch 00014: val_loss did not improve from 0.19632\n",
      "Epoch 15/15\n",
      "23/23 [==============================] - 88s 4s/step - loss: 0.5147 - categorical_accuracy: 0.8142 - val_loss: 0.3031 - val_categorical_accuracy: 0.8673\n",
      "\n",
      "Epoch 00015: val_loss did not improve from 0.19632\n"
     ]
    }
   ],
   "source": [
    "print(\"Total Params:\", conv_3d_model.count_params())\n",
    "history_model3=conv_3d.train_model(conv_3d_model,augment_data=True)"
   ]
  },
  {
   "cell_type": "code",
   "execution_count": 36,
   "metadata": {},
   "outputs": [
    {
     "data": {
      "image/png": "[encoded data removed]",
      "text/plain": [
       "<Figure size 1080x288 with 2 Axes>"
      ]
     },
     "metadata": {},
     "output_type": "display_data"
    }
   ],
   "source": [
    "plot(history_model3)"
   ]
  },
  {
   "cell_type": "markdown",
   "metadata": {},
   "source": [
    "### Model has a validation accuracy of : 86.73%  and training accuracy of: 81.42%"
   ]
  },
  {
   "cell_type": "markdown",
   "metadata": {},
   "source": [
    "### Model 4: Adding more layers, batch size 20 and Number of Epochs 15"
   ]
  },
  {
   "cell_type": "code",
   "execution_count": 37,
   "metadata": {},
   "outputs": [],
   "source": [
    "class ModelConv3D(ModelBuilder):\n",
    "    \n",
    "    def define_model(self,filtersize,dense_neurons,dropout):\n",
    "\n",
    "        model = Sequential()\n",
    "        model.add(Conv3D(16, filtersize, padding='same',\n",
    "                 input_shape=(self.frames_to_sample,self.image_height,self.image_width,self.channels)))\n",
    "        model.add(Activation('relu'))\n",
    "        model.add(BatchNormalization())\n",
    "        \n",
    "        model.add(Conv3D(16, filtersize, padding='same',\n",
    "                 input_shape=(self.frames_to_sample,self.image_height,self.image_width,self.channels)))\n",
    "        model.add(Activation('relu'))\n",
    "        model.add(BatchNormalization())\n",
    "        \n",
    "        model.add(MaxPooling3D(pool_size=(2, 2, 2)))\n",
    "\n",
    "        model.add(Conv3D(32, filtersize, padding='same'))\n",
    "        model.add(Activation('relu'))\n",
    "        model.add(BatchNormalization())\n",
    "        \n",
    "        model.add(Conv3D(32, filtersize, padding='same'))\n",
    "        model.add(Activation('relu'))\n",
    "        model.add(BatchNormalization())\n",
    "        \n",
    "        model.add(MaxPooling3D(pool_size=(2, 2, 2)))\n",
    "\n",
    "        model.add(Conv3D(64, filtersize, padding='same'))\n",
    "        model.add(Activation('relu'))\n",
    "        model.add(BatchNormalization())\n",
    "        \n",
    "        model.add(Conv3D(64, filtersize, padding='same'))\n",
    "        model.add(Activation('relu'))\n",
    "        model.add(BatchNormalization())\n",
    "        \n",
    "        model.add(MaxPooling3D(pool_size=(2, 2, 2)))\n",
    "\n",
    "        model.add(Conv3D(128, filtersize, padding='same'))\n",
    "        model.add(Activation('relu'))\n",
    "        model.add(BatchNormalization())\n",
    "        \n",
    "        model.add(Conv3D(128, filtersize, padding='same'))\n",
    "        model.add(Activation('relu'))\n",
    "        model.add(BatchNormalization())\n",
    "        \n",
    "        model.add(MaxPooling3D(pool_size=(2, 2, 2)))\n",
    "        \n",
    "\n",
    "        model.add(Flatten())\n",
    "        model.add(Dense(dense_neurons,activation='relu'))\n",
    "        model.add(BatchNormalization())\n",
    "        model.add(Dropout(dropout))\n",
    "\n",
    "        model.add(Dense(dense_neurons,activation='relu'))\n",
    "        model.add(BatchNormalization())\n",
    "        model.add(Dropout(dropout))\n",
    "\n",
    "\n",
    "        model.add(Dense(self.num_classes,activation='softmax'))\n",
    "\n",
    "        optimiser = optimizers.Adam()\n",
    "        model.compile(optimizer=optimiser, loss='categorical_crossentropy', metrics=['categorical_accuracy'])\n",
    "        return model"
   ]
  },
  {
   "cell_type": "code",
   "execution_count": 38,
   "metadata": {},
   "outputs": [
    {
     "name": "stdout",
     "output_type": "stream",
     "text": [
      "_________________________________________________________________\n",
      "Layer (type)                 Output Shape              Param #   \n",
      "=================================================================\n",
      "conv3d_65 (Conv3D)           (None, 20, 120, 120, 16)  1312      \n",
      "_________________________________________________________________\n",
      "activation_65 (Activation)   (None, 20, 120, 120, 16)  0         \n",
      "_________________________________________________________________\n",
      "batch_normalization_97 (Batc (None, 20, 120, 120, 16)  64        \n",
      "_________________________________________________________________\n",
      "conv3d_66 (Conv3D)           (None, 20, 120, 120, 16)  6928      \n",
      "_________________________________________________________________\n",
      "activation_66 (Activation)   (None, 20, 120, 120, 16)  0         \n",
      "_________________________________________________________________\n",
      "batch_normalization_98 (Batc (None, 20, 120, 120, 16)  64        \n",
      "_________________________________________________________________\n",
      "max_pooling3d_65 (MaxPooling (None, 10, 60, 60, 16)    0         \n",
      "_________________________________________________________________\n",
      "conv3d_67 (Conv3D)           (None, 10, 60, 60, 32)    13856     \n",
      "_________________________________________________________________\n",
      "activation_67 (Activation)   (None, 10, 60, 60, 32)    0         \n",
      "_________________________________________________________________\n",
      "batch_normalization_99 (Batc (None, 10, 60, 60, 32)    128       \n",
      "_________________________________________________________________\n",
      "conv3d_68 (Conv3D)           (None, 10, 60, 60, 32)    27680     \n",
      "_________________________________________________________________\n",
      "activation_68 (Activation)   (None, 10, 60, 60, 32)    0         \n",
      "_________________________________________________________________\n",
      "batch_normalization_100 (Bat (None, 10, 60, 60, 32)    128       \n",
      "_________________________________________________________________\n",
      "max_pooling3d_66 (MaxPooling (None, 5, 30, 30, 32)     0         \n",
      "_________________________________________________________________\n",
      "conv3d_69 (Conv3D)           (None, 5, 30, 30, 64)     55360     \n",
      "_________________________________________________________________\n",
      "activation_69 (Activation)   (None, 5, 30, 30, 64)     0         \n",
      "_________________________________________________________________\n",
      "batch_normalization_101 (Bat (None, 5, 30, 30, 64)     256       \n",
      "_________________________________________________________________\n",
      "conv3d_70 (Conv3D)           (None, 5, 30, 30, 64)     110656    \n",
      "_________________________________________________________________\n",
      "activation_70 (Activation)   (None, 5, 30, 30, 64)     0         \n",
      "_________________________________________________________________\n",
      "batch_normalization_102 (Bat (None, 5, 30, 30, 64)     256       \n",
      "_________________________________________________________________\n",
      "max_pooling3d_67 (MaxPooling (None, 2, 15, 15, 64)     0         \n",
      "_________________________________________________________________\n",
      "conv3d_71 (Conv3D)           (None, 2, 15, 15, 128)    221312    \n",
      "_________________________________________________________________\n",
      "activation_71 (Activation)   (None, 2, 15, 15, 128)    0         \n",
      "_________________________________________________________________\n",
      "batch_normalization_103 (Bat (None, 2, 15, 15, 128)    512       \n",
      "_________________________________________________________________\n",
      "conv3d_72 (Conv3D)           (None, 2, 15, 15, 128)    442496    \n",
      "_________________________________________________________________\n",
      "activation_72 (Activation)   (None, 2, 15, 15, 128)    0         \n",
      "_________________________________________________________________\n",
      "batch_normalization_104 (Bat (None, 2, 15, 15, 128)    512       \n",
      "_________________________________________________________________\n",
      "max_pooling3d_68 (MaxPooling (None, 1, 7, 7, 128)      0         \n",
      "_________________________________________________________________\n",
      "flatten_17 (Flatten)         (None, 6272)              0         \n",
      "_________________________________________________________________\n",
      "dense_49 (Dense)             (None, 256)               1605888   \n",
      "_________________________________________________________________\n",
      "batch_normalization_105 (Bat (None, 256)               1024      \n",
      "_________________________________________________________________\n",
      "dropout_33 (Dropout)         (None, 256)               0         \n",
      "_________________________________________________________________\n",
      "dense_50 (Dense)             (None, 256)               65792     \n",
      "_________________________________________________________________\n",
      "batch_normalization_106 (Bat (None, 256)               1024      \n",
      "_________________________________________________________________\n",
      "dropout_34 (Dropout)         (None, 256)               0         \n",
      "_________________________________________________________________\n",
      "dense_51 (Dense)             (None, 5)                 1285      \n",
      "=================================================================\n",
      "Total params: 2,556,533\n",
      "Trainable params: 2,554,549\n",
      "Non-trainable params: 1,984\n",
      "_________________________________________________________________\n"
     ]
    }
   ],
   "source": [
    "conv_3d=ModelConv3D()\n",
    "conv_3d.initialize_path()\n",
    "conv_3d.initialize_image_properties(image_height=120,image_width=120)\n",
    "conv_3d.initialize_hyperparams(frames_to_sample=20,batch_size=20,num_epochs=15)\n",
    "conv_3d_model=conv_3d.define_model(filtersize=(3,3,3),dense_neurons=256,dropout=0.5)\n",
    "conv_3d_model.summary()"
   ]
  },
  {
   "cell_type": "code",
   "execution_count": 39,
   "metadata": {},
   "outputs": [
    {
     "name": "stdout",
     "output_type": "stream",
     "text": [
      "Total Params: 2556533\n",
      "Epoch 1/15\n",
      "34/34 [==============================] - 161s 5s/step - loss: 1.9631 - categorical_accuracy: 0.3767 - val_loss: 3.0601 - val_categorical_accuracy: 0.4314\n",
      "\n",
      "Epoch 00001: val_loss improved from inf to 3.06014, saving model to model_init_2020-09-1305_49_31.828855/model-00001-1.97793-0.37783-3.06014-0.43137.h5\n",
      "Epoch 2/15\n",
      "34/34 [==============================] - 135s 4s/step - loss: 1.5045 - categorical_accuracy: 0.5011 - val_loss: 4.3514 - val_categorical_accuracy: 0.3348\n",
      "\n",
      "Epoch 00002: val_loss did not improve from 3.06014\n",
      "Epoch 3/15\n",
      "34/34 [==============================] - 135s 4s/step - loss: 1.2053 - categorical_accuracy: 0.5843 - val_loss: 2.9394 - val_categorical_accuracy: 0.4238\n",
      "\n",
      "Epoch 00003: val_loss improved from 3.06014 to 2.93939, saving model to model_init_2020-09-1305_49_31.828855/model-00003-1.20871-0.58220-2.93939-0.42383.h5\n",
      "Epoch 4/15\n",
      "34/34 [==============================] - 136s 4s/step - loss: 1.0487 - categorical_accuracy: 0.6277 - val_loss: 0.7880 - val_categorical_accuracy: 0.7044\n",
      "\n",
      "Epoch 00004: val_loss improved from 2.93939 to 0.78797, saving model to model_init_2020-09-1305_49_31.828855/model-00004-1.06547-0.61840-0.78797-0.70437.h5\n",
      "Epoch 5/15\n",
      "34/34 [==============================] - 136s 4s/step - loss: 0.9752 - categorical_accuracy: 0.6534 - val_loss: 0.6147 - val_categorical_accuracy: 0.7753\n",
      "\n",
      "Epoch 00005: val_loss improved from 0.78797 to 0.61467, saving model to model_init_2020-09-1305_49_31.828855/model-00005-0.93156-0.66139-0.61467-0.77526.h5\n",
      "Epoch 6/15\n",
      "34/34 [==============================] - 136s 4s/step - loss: 0.9188 - categorical_accuracy: 0.6479 - val_loss: 3.3592 - val_categorical_accuracy: 0.3756\n",
      "\n",
      "Epoch 00006: val_loss did not improve from 0.61467\n",
      "Epoch 7/15\n",
      "34/34 [==============================] - 134s 4s/step - loss: 0.9222 - categorical_accuracy: 0.6836 - val_loss: 1.1778 - val_categorical_accuracy: 0.7044\n",
      "\n",
      "Epoch 00007: val_loss did not improve from 0.61467\n",
      "Epoch 8/15\n",
      "34/34 [==============================] - 134s 4s/step - loss: 0.8332 - categorical_accuracy: 0.7009 - val_loss: 0.9342 - val_categorical_accuracy: 0.7360\n",
      "\n",
      "Epoch 00008: val_loss did not improve from 0.61467\n",
      "Epoch 9/15\n",
      "34/34 [==============================] - 134s 4s/step - loss: 0.7641 - categorical_accuracy: 0.7351 - val_loss: 0.8356 - val_categorical_accuracy: 0.7481\n",
      "\n",
      "Epoch 00009: val_loss did not improve from 0.61467\n",
      "\n",
      "Epoch 00009: ReduceLROnPlateau reducing learning rate to 0.00020000000949949026.\n",
      "Epoch 10/15\n",
      "34/34 [==============================] - 135s 4s/step - loss: 0.6224 - categorical_accuracy: 0.7737 - val_loss: 0.3114 - val_categorical_accuracy: 0.8763\n",
      "\n",
      "Epoch 00010: val_loss improved from 0.61467 to 0.31140, saving model to model_init_2020-09-1305_49_31.828855/model-00010-0.58225-0.78054-0.31140-0.87632.h5\n",
      "Epoch 11/15\n",
      "34/34 [==============================] - 135s 4s/step - loss: 0.5553 - categorical_accuracy: 0.7870 - val_loss: 0.2089 - val_categorical_accuracy: 0.9336\n",
      "\n",
      "Epoch 00011: val_loss improved from 0.31140 to 0.20895, saving model to model_init_2020-09-1305_49_31.828855/model-00011-0.52149-0.80241-0.20895-0.93363.h5\n",
      "Epoch 12/15\n",
      "34/34 [==============================] - 134s 4s/step - loss: 0.4311 - categorical_accuracy: 0.8344 - val_loss: 0.2274 - val_categorical_accuracy: 0.9306\n",
      "\n",
      "Epoch 00012: val_loss did not improve from 0.20895\n",
      "Epoch 13/15\n",
      "34/34 [==============================] - 134s 4s/step - loss: 0.4576 - categorical_accuracy: 0.8308 - val_loss: 0.1918 - val_categorical_accuracy: 0.9412\n",
      "\n",
      "Epoch 00013: val_loss improved from 0.20895 to 0.19181, saving model to model_init_2020-09-1305_49_31.828855/model-00013-0.44010-0.83484-0.19181-0.94118.h5\n",
      "Epoch 14/15\n",
      "34/34 [==============================] - 135s 4s/step - loss: 0.4009 - categorical_accuracy: 0.8466 - val_loss: 0.1511 - val_categorical_accuracy: 0.9548\n",
      "\n",
      "Epoch 00014: val_loss improved from 0.19181 to 0.15106, saving model to model_init_2020-09-1305_49_31.828855/model-00014-0.37785-0.85520-0.15106-0.95475.h5\n",
      "Epoch 15/15\n",
      "34/34 [==============================] - 135s 4s/step - loss: 0.3833 - categorical_accuracy: 0.8587 - val_loss: 0.1938 - val_categorical_accuracy: 0.9367\n",
      "\n",
      "Epoch 00015: val_loss did not improve from 0.15106\n"
     ]
    }
   ],
   "source": [
    "print(\"Total Params:\", conv_3d_model.count_params())\n",
    "history_model4=conv_3d.train_model(conv_3d_model,augment_data=True)"
   ]
  },
  {
   "cell_type": "code",
   "execution_count": 40,
   "metadata": {},
   "outputs": [
    {
     "data": {
      "image/png": "[encoded data removed]",
      "text/plain": [
       "<Figure size 1080x288 with 2 Axes>"
      ]
     },
     "metadata": {},
     "output_type": "display_data"
    }
   ],
   "source": [
    "plot(history_model4)"
   ]
  },
  {
   "cell_type": "markdown",
   "metadata": {},
   "source": [
    "### There is a bit performance improvement with more layers with training accuracy 85.87% and validation accuracy 93.67%"
   ]
  },
  {
   "cell_type": "markdown",
   "metadata": {},
   "source": [
    "### Model 5: Adding dropout at convolution layers"
   ]
  },
  {
   "cell_type": "code",
   "execution_count": 45,
   "metadata": {},
   "outputs": [],
   "source": [
    "class ModelConv3D(ModelBuilder):\n",
    "    \n",
    "    def define_model(self,filtersize,dense_neurons,dropout):\n",
    "\n",
    "        model = Sequential()\n",
    "        model.add(Conv3D(16, filtersize, padding='same',\n",
    "                 input_shape=(self.frames_to_sample,self.image_height,self.image_width,self.channels)))\n",
    "        model.add(Activation('relu'))\n",
    "        model.add(BatchNormalization())\n",
    "        \n",
    "        model.add(Conv3D(16, filtersize, padding='same',\n",
    "                 input_shape=(self.frames_to_sample,self.image_height,self.image_width,self.channels)))\n",
    "        model.add(Activation('relu'))\n",
    "        model.add(BatchNormalization())\n",
    "        \n",
    "        model.add(MaxPooling3D(pool_size=(2, 2, 2)))\n",
    "        model.add(Dropout(dropout))\n",
    "\n",
    "        model.add(Conv3D(32, filtersize, padding='same'))\n",
    "        model.add(Activation('relu'))\n",
    "        model.add(BatchNormalization())\n",
    "        \n",
    "        model.add(Conv3D(32, filtersize, padding='same'))\n",
    "        model.add(Activation('relu'))\n",
    "        model.add(BatchNormalization())\n",
    "        \n",
    "        model.add(MaxPooling3D(pool_size=(2, 2, 2)))\n",
    "        model.add(Dropout(dropout))\n",
    "\n",
    "        model.add(Conv3D(64, filtersize, padding='same'))\n",
    "        model.add(Activation('relu'))\n",
    "        model.add(BatchNormalization())\n",
    "        \n",
    "        model.add(Conv3D(64, filtersize, padding='same'))\n",
    "        model.add(Activation('relu'))\n",
    "        model.add(BatchNormalization())\n",
    "        \n",
    "        model.add(MaxPooling3D(pool_size=(2, 2, 2)))\n",
    "        model.add(Dropout(dropout))\n",
    "\n",
    "        model.add(Conv3D(128, filtersize, padding='same'))\n",
    "        model.add(Activation('relu'))\n",
    "        model.add(BatchNormalization())\n",
    "        \n",
    "        model.add(Conv3D(128, filtersize, padding='same'))\n",
    "        model.add(Activation('relu'))\n",
    "        model.add(BatchNormalization())\n",
    "        \n",
    "        model.add(MaxPooling3D(pool_size=(2, 2, 2)))\n",
    "        model.add(Dropout(dropout))\n",
    "        \n",
    "        model.add(Flatten())\n",
    "        model.add(Dense(dense_neurons,activation='relu'))\n",
    "        model.add(BatchNormalization())\n",
    "        model.add(Dropout(dropout))\n",
    "\n",
    "        model.add(Dense(dense_neurons,activation='relu'))\n",
    "        model.add(BatchNormalization())\n",
    "        model.add(Dropout(dropout))\n",
    "\n",
    "\n",
    "        model.add(Dense(self.num_classes,activation='softmax'))\n",
    "\n",
    "        optimiser = optimizers.Adam()\n",
    "        model.compile(optimizer=optimiser, loss='categorical_crossentropy', metrics=['categorical_accuracy'])\n",
    "        return model"
   ]
  },
  {
   "cell_type": "code",
   "execution_count": 42,
   "metadata": {},
   "outputs": [
    {
     "name": "stdout",
     "output_type": "stream",
     "text": [
      "_________________________________________________________________\n",
      "Layer (type)                 Output Shape              Param #   \n",
      "=================================================================\n",
      "conv3d_73 (Conv3D)           (None, 20, 120, 120, 16)  1312      \n",
      "_________________________________________________________________\n",
      "activation_73 (Activation)   (None, 20, 120, 120, 16)  0         \n",
      "_________________________________________________________________\n",
      "batch_normalization_107 (Bat (None, 20, 120, 120, 16)  64        \n",
      "_________________________________________________________________\n",
      "conv3d_74 (Conv3D)           (None, 20, 120, 120, 16)  6928      \n",
      "_________________________________________________________________\n",
      "activation_74 (Activation)   (None, 20, 120, 120, 16)  0         \n",
      "_________________________________________________________________\n",
      "batch_normalization_108 (Bat (None, 20, 120, 120, 16)  64        \n",
      "_________________________________________________________________\n",
      "max_pooling3d_69 (MaxPooling (None, 10, 60, 60, 16)    0         \n",
      "_________________________________________________________________\n",
      "dropout_35 (Dropout)         (None, 10, 60, 60, 16)    0         \n",
      "_________________________________________________________________\n",
      "conv3d_75 (Conv3D)           (None, 10, 60, 60, 32)    13856     \n",
      "_________________________________________________________________\n",
      "activation_75 (Activation)   (None, 10, 60, 60, 32)    0         \n",
      "_________________________________________________________________\n",
      "batch_normalization_109 (Bat (None, 10, 60, 60, 32)    128       \n",
      "_________________________________________________________________\n",
      "conv3d_76 (Conv3D)           (None, 10, 60, 60, 32)    27680     \n",
      "_________________________________________________________________\n",
      "activation_76 (Activation)   (None, 10, 60, 60, 32)    0         \n",
      "_________________________________________________________________\n",
      "batch_normalization_110 (Bat (None, 10, 60, 60, 32)    128       \n",
      "_________________________________________________________________\n",
      "max_pooling3d_70 (MaxPooling (None, 5, 30, 30, 32)     0         \n",
      "_________________________________________________________________\n",
      "dropout_36 (Dropout)         (None, 5, 30, 30, 32)     0         \n",
      "_________________________________________________________________\n",
      "conv3d_77 (Conv3D)           (None, 5, 30, 30, 64)     55360     \n",
      "_________________________________________________________________\n",
      "activation_77 (Activation)   (None, 5, 30, 30, 64)     0         \n",
      "_________________________________________________________________\n",
      "batch_normalization_111 (Bat (None, 5, 30, 30, 64)     256       \n",
      "_________________________________________________________________\n",
      "conv3d_78 (Conv3D)           (None, 5, 30, 30, 64)     110656    \n",
      "_________________________________________________________________\n",
      "activation_78 (Activation)   (None, 5, 30, 30, 64)     0         \n",
      "_________________________________________________________________\n",
      "batch_normalization_112 (Bat (None, 5, 30, 30, 64)     256       \n",
      "_________________________________________________________________\n",
      "max_pooling3d_71 (MaxPooling (None, 2, 15, 15, 64)     0         \n",
      "_________________________________________________________________\n",
      "dropout_37 (Dropout)         (None, 2, 15, 15, 64)     0         \n",
      "_________________________________________________________________\n",
      "conv3d_79 (Conv3D)           (None, 2, 15, 15, 128)    221312    \n",
      "_________________________________________________________________\n",
      "activation_79 (Activation)   (None, 2, 15, 15, 128)    0         \n",
      "_________________________________________________________________\n",
      "batch_normalization_113 (Bat (None, 2, 15, 15, 128)    512       \n",
      "_________________________________________________________________\n",
      "conv3d_80 (Conv3D)           (None, 2, 15, 15, 128)    442496    \n",
      "_________________________________________________________________\n",
      "activation_80 (Activation)   (None, 2, 15, 15, 128)    0         \n",
      "_________________________________________________________________\n",
      "batch_normalization_114 (Bat (None, 2, 15, 15, 128)    512       \n",
      "_________________________________________________________________\n",
      "max_pooling3d_72 (MaxPooling (None, 1, 7, 7, 128)      0         \n",
      "_________________________________________________________________\n",
      "dropout_38 (Dropout)         (None, 1, 7, 7, 128)      0         \n",
      "_________________________________________________________________\n",
      "flatten_18 (Flatten)         (None, 6272)              0         \n",
      "_________________________________________________________________\n",
      "dense_52 (Dense)             (None, 256)               1605888   \n",
      "_________________________________________________________________\n",
      "batch_normalization_115 (Bat (None, 256)               1024      \n",
      "_________________________________________________________________\n",
      "dropout_39 (Dropout)         (None, 256)               0         \n",
      "_________________________________________________________________\n",
      "dense_53 (Dense)             (None, 256)               65792     \n",
      "_________________________________________________________________\n",
      "batch_normalization_116 (Bat (None, 256)               1024      \n",
      "_________________________________________________________________\n",
      "dropout_40 (Dropout)         (None, 256)               0         \n",
      "_________________________________________________________________\n",
      "dense_54 (Dense)             (None, 5)                 1285      \n",
      "=================================================================\n",
      "Total params: 2,556,533\n",
      "Trainable params: 2,554,549\n",
      "Non-trainable params: 1,984\n",
      "_________________________________________________________________\n"
     ]
    }
   ],
   "source": [
    "conv_3d=ModelConv3D()\n",
    "conv_3d.initialize_path()\n",
    "conv_3d.initialize_image_properties(image_height=120,image_width=120)\n",
    "conv_3d.initialize_hyperparams(frames_to_sample=20,batch_size=20,num_epochs=15)\n",
    "conv_3d_model=conv_3d.define_model(filtersize=(3,3,3),dense_neurons=256,dropout=0.5)\n",
    "conv_3d_model.summary()"
   ]
  },
  {
   "cell_type": "code",
   "execution_count": 43,
   "metadata": {},
   "outputs": [
    {
     "name": "stdout",
     "output_type": "stream",
     "text": [
      "Total Params: 2556533\n",
      "Epoch 1/15\n",
      "34/34 [==============================] - 152s 4s/step - loss: 2.2373 - categorical_accuracy: 0.3024 - val_loss: 2.3099 - val_categorical_accuracy: 0.2700\n",
      "\n",
      "Epoch 00001: val_loss improved from inf to 2.30993, saving model to model_init_2020-09-1306_24_02.000048/model-00001-2.21314-0.30995-2.30993-0.26998.h5\n",
      "Epoch 2/15\n",
      "34/34 [==============================] - 136s 4s/step - loss: 1.7317 - categorical_accuracy: 0.4003 - val_loss: 4.6788 - val_categorical_accuracy: 0.2066\n",
      "\n",
      "Epoch 00002: val_loss did not improve from 2.30993\n",
      "Epoch 3/15\n",
      "34/34 [==============================] - 137s 4s/step - loss: 1.6183 - categorical_accuracy: 0.4297 - val_loss: 2.5699 - val_categorical_accuracy: 0.2821\n",
      "\n",
      "Epoch 00003: val_loss did not improve from 2.30993\n",
      "Epoch 4/15\n",
      "34/34 [==============================] - 136s 4s/step - loss: 1.4446 - categorical_accuracy: 0.4801 - val_loss: 2.0922 - val_categorical_accuracy: 0.3469\n",
      "\n",
      "Epoch 00004: val_loss improved from 2.30993 to 2.09221, saving model to model_init_2020-09-1306_24_02.000048/model-00004-1.42563-0.48793-2.09221-0.34691.h5\n",
      "Epoch 5/15\n",
      "34/34 [==============================] - 136s 4s/step - loss: 1.2978 - categorical_accuracy: 0.5280 - val_loss: 1.7577 - val_categorical_accuracy: 0.3650\n",
      "\n",
      "Epoch 00005: val_loss improved from 2.09221 to 1.75768, saving model to model_init_2020-09-1306_24_02.000048/model-00005-1.27197-0.52866-1.75768-0.36501.h5\n",
      "Epoch 6/15\n",
      "34/34 [==============================] - 134s 4s/step - loss: 1.2077 - categorical_accuracy: 0.5368 - val_loss: 1.9269 - val_categorical_accuracy: 0.3801\n",
      "\n",
      "Epoch 00006: val_loss did not improve from 1.75768\n",
      "Epoch 7/15\n",
      "34/34 [==============================] - 137s 4s/step - loss: 1.1496 - categorical_accuracy: 0.5625 - val_loss: 1.6306 - val_categorical_accuracy: 0.4163\n",
      "\n",
      "Epoch 00007: val_loss improved from 1.75768 to 1.63064, saving model to model_init_2020-09-1306_24_02.000048/model-00007-1.14890-0.56410-1.63064-0.41629.h5\n",
      "Epoch 8/15\n",
      "34/34 [==============================] - 135s 4s/step - loss: 1.2405 - categorical_accuracy: 0.5405 - val_loss: 1.2549 - val_categorical_accuracy: 0.5913\n",
      "\n",
      "Epoch 00008: val_loss improved from 1.63064 to 1.25493, saving model to model_init_2020-09-1306_24_02.000048/model-00008-1.19182-0.54977-1.25493-0.59125.h5\n",
      "Epoch 9/15\n",
      "34/34 [==============================] - 135s 4s/step - loss: 1.1125 - categorical_accuracy: 0.5684 - val_loss: 1.6620 - val_categorical_accuracy: 0.4284\n",
      "\n",
      "Epoch 00009: val_loss did not improve from 1.25493\n",
      "Epoch 10/15\n",
      "34/34 [==============================] - 137s 4s/step - loss: 1.0369 - categorical_accuracy: 0.6026 - val_loss: 1.0383 - val_categorical_accuracy: 0.6275\n",
      "\n",
      "Epoch 00010: val_loss improved from 1.25493 to 1.03834, saving model to model_init_2020-09-1306_24_02.000048/model-00010-1.02561-0.60106-1.03834-0.62745.h5\n",
      "Epoch 11/15\n",
      "34/34 [==============================] - 136s 4s/step - loss: 0.9920 - categorical_accuracy: 0.6291 - val_loss: 1.1427 - val_categorical_accuracy: 0.5279\n",
      "\n",
      "Epoch 00011: val_loss did not improve from 1.03834\n",
      "Epoch 12/15\n",
      "34/34 [==============================] - 136s 4s/step - loss: 0.9452 - categorical_accuracy: 0.6413 - val_loss: 1.0288 - val_categorical_accuracy: 0.5913\n",
      "\n",
      "Epoch 00012: val_loss improved from 1.03834 to 1.02885, saving model to model_init_2020-09-1306_24_02.000048/model-00012-0.93986-0.64480-1.02885-0.59125.h5\n",
      "Epoch 13/15\n",
      "34/34 [==============================] - 138s 4s/step - loss: 0.8499 - categorical_accuracy: 0.6766 - val_loss: 0.9702 - val_categorical_accuracy: 0.6275\n",
      "\n",
      "Epoch 00013: val_loss improved from 1.02885 to 0.97016, saving model to model_init_2020-09-1306_24_02.000048/model-00013-0.85715-0.67270-0.97016-0.62745.h5\n",
      "Epoch 14/15\n",
      "34/34 [==============================] - 138s 4s/step - loss: 0.8581 - categorical_accuracy: 0.6600 - val_loss: 1.1929 - val_categorical_accuracy: 0.5415\n",
      "\n",
      "Epoch 00014: val_loss did not improve from 0.97016\n",
      "Epoch 15/15\n",
      "34/34 [==============================] - 137s 4s/step - loss: 0.8107 - categorical_accuracy: 0.6990 - val_loss: 3.0020 - val_categorical_accuracy: 0.2504\n",
      "\n",
      "Epoch 00015: val_loss did not improve from 0.97016\n"
     ]
    }
   ],
   "source": [
    "print(\"Total Params:\", conv_3d_model.count_params())\n",
    "history_model5=conv_3d.train_model(conv_3d_model,augment_data=True)"
   ]
  },
  {
   "cell_type": "code",
   "execution_count": 44,
   "metadata": {},
   "outputs": [
    {
     "data": {
      "image/png": "[encoded data removed]",
      "text/plain": [
       "<Figure size 1080x288 with 2 Axes>"
      ]
     },
     "metadata": {},
     "output_type": "display_data"
    }
   ],
   "source": [
    "plot(history_model5)"
   ]
  },
  {
   "cell_type": "markdown",
   "metadata": {},
   "source": [
    "### Overfitting again!! Adding dropouts has further reduced validation accuracy drastically as the model doesn't seem to generalise well.\n",
    "### All the experimental models above have more than 1 million parameters. Let's try to reduce the model size and see the performance"
   ]
  },
  {
   "cell_type": "markdown",
   "metadata": {},
   "source": [
    "### Model 6: Reducing number of parameter in number of neurons, image size and drop out"
   ]
  },
  {
   "cell_type": "code",
   "execution_count": 46,
   "metadata": {},
   "outputs": [],
   "source": [
    "class ModelConv3D(ModelBuilder):\n",
    "    \n",
    "    def define_model(self,dense_neurons,dropout):\n",
    "\n",
    "        model = Sequential()\n",
    "        model.add(Conv3D(16, (3, 3, 3), padding='same',\n",
    "                 input_shape=(self.frames_to_sample,self.image_height,self.image_width,self.channels)))\n",
    "        model.add(Activation('relu'))\n",
    "        model.add(BatchNormalization())\n",
    "        model.add(MaxPooling3D(pool_size=(2, 2, 2)))\n",
    "\n",
    "        model.add(Conv3D(32, (2, 2, 2), padding='same'))\n",
    "        model.add(Activation('relu'))\n",
    "        model.add(BatchNormalization())\n",
    "        model.add(MaxPooling3D(pool_size=(2, 2, 2)))\n",
    "\n",
    "        model.add(Conv3D(64, (2, 2, 2), padding='same'))\n",
    "        model.add(Activation('relu'))\n",
    "        model.add(BatchNormalization())\n",
    "        model.add(MaxPooling3D(pool_size=(2, 2, 2)))\n",
    "\n",
    "        model.add(Conv3D(128, (2, 2, 2), padding='same'))\n",
    "        model.add(Activation('relu'))\n",
    "        model.add(BatchNormalization())\n",
    "        model.add(MaxPooling3D(pool_size=(2, 2, 2)))\n",
    "        \n",
    "        model.add(Flatten())\n",
    "        model.add(Dense(dense_neurons,activation='relu'))\n",
    "        model.add(BatchNormalization())\n",
    "        model.add(Dropout(dropout))\n",
    "\n",
    "        model.add(Dense(dense_neurons,activation='relu'))\n",
    "        model.add(BatchNormalization())\n",
    "        model.add(Dropout(dropout))\n",
    "\n",
    "        model.add(Dense(self.num_classes,activation='softmax'))\n",
    "\n",
    "        optimiser = optimizers.Adam(lr=0.0002)\n",
    "        model.compile(optimizer=optimiser, loss='categorical_crossentropy', metrics=['categorical_accuracy'])\n",
    "        return model"
   ]
  },
  {
   "cell_type": "code",
   "execution_count": 47,
   "metadata": {},
   "outputs": [
    {
     "name": "stdout",
     "output_type": "stream",
     "text": [
      "_________________________________________________________________\n",
      "Layer (type)                 Output Shape              Param #   \n",
      "=================================================================\n",
      "conv3d_81 (Conv3D)           (None, 20, 100, 100, 16)  1312      \n",
      "_________________________________________________________________\n",
      "activation_81 (Activation)   (None, 20, 100, 100, 16)  0         \n",
      "_________________________________________________________________\n",
      "batch_normalization_117 (Bat (None, 20, 100, 100, 16)  64        \n",
      "_________________________________________________________________\n",
      "max_pooling3d_73 (MaxPooling (None, 10, 50, 50, 16)    0         \n",
      "_________________________________________________________________\n",
      "conv3d_82 (Conv3D)           (None, 10, 50, 50, 32)    4128      \n",
      "_________________________________________________________________\n",
      "activation_82 (Activation)   (None, 10, 50, 50, 32)    0         \n",
      "_________________________________________________________________\n",
      "batch_normalization_118 (Bat (None, 10, 50, 50, 32)    128       \n",
      "_________________________________________________________________\n",
      "max_pooling3d_74 (MaxPooling (None, 5, 25, 25, 32)     0         \n",
      "_________________________________________________________________\n",
      "conv3d_83 (Conv3D)           (None, 5, 25, 25, 64)     16448     \n",
      "_________________________________________________________________\n",
      "activation_83 (Activation)   (None, 5, 25, 25, 64)     0         \n",
      "_________________________________________________________________\n",
      "batch_normalization_119 (Bat (None, 5, 25, 25, 64)     256       \n",
      "_________________________________________________________________\n",
      "max_pooling3d_75 (MaxPooling (None, 2, 12, 12, 64)     0         \n",
      "_________________________________________________________________\n",
      "conv3d_84 (Conv3D)           (None, 2, 12, 12, 128)    65664     \n",
      "_________________________________________________________________\n",
      "activation_84 (Activation)   (None, 2, 12, 12, 128)    0         \n",
      "_________________________________________________________________\n",
      "batch_normalization_120 (Bat (None, 2, 12, 12, 128)    512       \n",
      "_________________________________________________________________\n",
      "max_pooling3d_76 (MaxPooling (None, 1, 6, 6, 128)      0         \n",
      "_________________________________________________________________\n",
      "flatten_19 (Flatten)         (None, 4608)              0         \n",
      "_________________________________________________________________\n",
      "dense_55 (Dense)             (None, 128)               589952    \n",
      "_________________________________________________________________\n",
      "batch_normalization_121 (Bat (None, 128)               512       \n",
      "_________________________________________________________________\n",
      "dropout_41 (Dropout)         (None, 128)               0         \n",
      "_________________________________________________________________\n",
      "dense_56 (Dense)             (None, 128)               16512     \n",
      "_________________________________________________________________\n",
      "batch_normalization_122 (Bat (None, 128)               512       \n",
      "_________________________________________________________________\n",
      "dropout_42 (Dropout)         (None, 128)               0         \n",
      "_________________________________________________________________\n",
      "dense_57 (Dense)             (None, 5)                 645       \n",
      "=================================================================\n",
      "Total params: 696,645\n",
      "Trainable params: 695,653\n",
      "Non-trainable params: 992\n",
      "_________________________________________________________________\n"
     ]
    }
   ],
   "source": [
    "conv_3d=ModelConv3D()\n",
    "conv_3d.initialize_path()\n",
    "conv_3d.initialize_image_properties(image_height=100,image_width=100)\n",
    "conv_3d.initialize_hyperparams(frames_to_sample=20,batch_size=20,num_epochs=15)\n",
    "conv_3d_model=conv_3d.define_model(dense_neurons=128,dropout=0.25)\n",
    "conv_3d_model.summary()"
   ]
  },
  {
   "cell_type": "code",
   "execution_count": 48,
   "metadata": {},
   "outputs": [
    {
     "name": "stdout",
     "output_type": "stream",
     "text": [
      "Total Params: 696645\n",
      "Epoch 1/15\n",
      "34/34 [==============================] - 113s 3s/step - loss: 1.7283 - categorical_accuracy: 0.3764 - val_loss: 1.0244 - val_categorical_accuracy: 0.6109\n",
      "\n",
      "Epoch 00001: val_loss improved from inf to 1.02445, saving model to model_init_2020-09-1307_00_39.785182/model-00001-1.70240-0.38160-1.02445-0.61086.h5\n",
      "Epoch 2/15\n",
      "34/34 [==============================] - 87s 3s/step - loss: 1.1853 - categorical_accuracy: 0.5453 - val_loss: 0.7000 - val_categorical_accuracy: 0.7195\n",
      "\n",
      "Epoch 00002: val_loss improved from 1.02445 to 0.70004, saving model to model_init_2020-09-1307_00_39.785182/model-00002-1.15697-0.55053-0.70004-0.71946.h5\n",
      "Epoch 3/15\n",
      "34/34 [==============================] - 88s 3s/step - loss: 0.9185 - categorical_accuracy: 0.6549 - val_loss: 0.4160 - val_categorical_accuracy: 0.8462\n",
      "\n",
      "Epoch 00003: val_loss improved from 0.70004 to 0.41604, saving model to model_init_2020-09-1307_00_39.785182/model-00003-0.90420-0.65460-0.41604-0.84615.h5\n",
      "Epoch 4/15\n",
      "34/34 [==============================] - 87s 3s/step - loss: 0.7888 - categorical_accuracy: 0.6924 - val_loss: 0.3492 - val_categorical_accuracy: 0.8989\n",
      "\n",
      "Epoch 00004: val_loss improved from 0.41604 to 0.34921, saving model to model_init_2020-09-1307_00_39.785182/model-00004-0.78338-0.70136-0.34921-0.89894.h5\n",
      "Epoch 5/15\n",
      "34/34 [==============================] - 85s 3s/step - loss: 0.7613 - categorical_accuracy: 0.7134 - val_loss: 0.3627 - val_categorical_accuracy: 0.8884\n",
      "\n",
      "Epoch 00005: val_loss did not improve from 0.34921\n",
      "Epoch 6/15\n",
      "34/34 [==============================] - 86s 3s/step - loss: 0.6426 - categorical_accuracy: 0.7528 - val_loss: 0.2410 - val_categorical_accuracy: 0.9412\n",
      "\n",
      "Epoch 00006: val_loss improved from 0.34921 to 0.24102, saving model to model_init_2020-09-1307_00_39.785182/model-00006-0.63949-0.75490-0.24102-0.94118.h5\n",
      "Epoch 7/15\n",
      "34/34 [==============================] - 86s 3s/step - loss: 0.5571 - categorical_accuracy: 0.7881 - val_loss: 0.3209 - val_categorical_accuracy: 0.9336\n",
      "\n",
      "Epoch 00007: val_loss did not improve from 0.24102\n",
      "Epoch 8/15\n",
      "34/34 [==============================] - 88s 3s/step - loss: 0.5620 - categorical_accuracy: 0.7947 - val_loss: 0.2078 - val_categorical_accuracy: 0.9623\n",
      "\n",
      "Epoch 00008: val_loss improved from 0.24102 to 0.20776, saving model to model_init_2020-09-1307_00_39.785182/model-00008-0.54417-0.79789-0.20776-0.96229.h5\n",
      "Epoch 9/15\n",
      "34/34 [==============================] - 87s 3s/step - loss: 0.5095 - categorical_accuracy: 0.8164 - val_loss: 0.1373 - val_categorical_accuracy: 0.9774\n",
      "\n",
      "Epoch 00009: val_loss improved from 0.20776 to 0.13733, saving model to model_init_2020-09-1307_00_39.785182/model-00009-0.50362-0.81599-0.13733-0.97738.h5\n",
      "Epoch 10/15\n",
      "34/34 [==============================] - 88s 3s/step - loss: 0.4758 - categorical_accuracy: 0.8370 - val_loss: 0.1096 - val_categorical_accuracy: 0.9925\n",
      "\n",
      "Epoch 00010: val_loss improved from 0.13733 to 0.10959, saving model to model_init_2020-09-1307_00_39.785182/model-00010-0.44185-0.84540-0.10959-0.99246.h5\n",
      "Epoch 11/15\n",
      "34/34 [==============================] - 88s 3s/step - loss: 0.4704 - categorical_accuracy: 0.8389 - val_loss: 0.4007 - val_categorical_accuracy: 0.8733\n",
      "\n",
      "Epoch 00011: val_loss did not improve from 0.10959\n",
      "Epoch 12/15\n",
      "34/34 [==============================] - 87s 3s/step - loss: 0.4407 - categorical_accuracy: 0.8514 - val_loss: 0.0825 - val_categorical_accuracy: 0.9940\n",
      "\n",
      "Epoch 00012: val_loss improved from 0.10959 to 0.08251, saving model to model_init_2020-09-1307_00_39.785182/model-00012-0.40308-0.86425-0.08251-0.99397.h5\n",
      "Epoch 13/15\n",
      "34/34 [==============================] - 88s 3s/step - loss: 0.4590 - categorical_accuracy: 0.8374 - val_loss: 0.1828 - val_categorical_accuracy: 0.9351\n",
      "\n",
      "Epoch 00013: val_loss did not improve from 0.08251\n",
      "Epoch 14/15\n",
      "34/34 [==============================] - 89s 3s/step - loss: 0.4717 - categorical_accuracy: 0.8396 - val_loss: 0.0981 - val_categorical_accuracy: 0.9894\n",
      "\n",
      "Epoch 00014: val_loss did not improve from 0.08251\n",
      "Epoch 15/15\n",
      "34/34 [==============================] - 89s 3s/step - loss: 0.3855 - categorical_accuracy: 0.8613 - val_loss: 0.0692 - val_categorical_accuracy: 0.9925\n",
      "\n",
      "Epoch 00015: val_loss improved from 0.08251 to 0.06918, saving model to model_init_2020-09-1307_00_39.785182/model-00015-0.34528-0.87029-0.06918-0.99246.h5\n"
     ]
    }
   ],
   "source": [
    "print(\"Total Params:\", conv_3d_model.count_params())\n",
    "history_model6=conv_3d.train_model(conv_3d_model,augment_data=True)"
   ]
  },
  {
   "cell_type": "code",
   "execution_count": 49,
   "metadata": {},
   "outputs": [
    {
     "data": {
      "image/png": "[encoded data removed]",
      "text/plain": [
       "<Figure size 1080x288 with 2 Axes>"
      ]
     },
     "metadata": {},
     "output_type": "display_data"
    }
   ],
   "source": [
    "plot(history_model6)"
   ]
  },
  {
   "cell_type": "markdown",
   "metadata": {},
   "source": [
    "### With less number of trainable parameter less memory is used with validation accuracy of 99.25%"
   ]
  },
  {
   "cell_type": "markdown",
   "metadata": {},
   "source": [
    "### Model 7: CNN - LSTM Model"
   ]
  },
  {
   "cell_type": "code",
   "execution_count": 50,
   "metadata": {},
   "outputs": [],
   "source": [
    "class RNNCNN(ModelBuilder):\n",
    "    \n",
    "    def define_model(self,lstm_cells,dense_neurons,dropout):\n",
    "\n",
    "        model = Sequential()\n",
    "\n",
    "        model.add(TimeDistributed(Conv2D(16, (3, 3) , padding='same', activation='relu'),\n",
    "                                  input_shape=(self.frames_to_sample,self.image_height,self.image_width,self.channels)))\n",
    "        model.add(TimeDistributed(BatchNormalization()))\n",
    "        model.add(TimeDistributed(MaxPooling2D((2, 2))))\n",
    "        \n",
    "        model.add(TimeDistributed(Conv2D(32, (3, 3) , padding='same', activation='relu')))\n",
    "        model.add(TimeDistributed(BatchNormalization()))\n",
    "        model.add(TimeDistributed(MaxPooling2D((2, 2))))\n",
    "        \n",
    "        model.add(TimeDistributed(Conv2D(64, (3, 3) , padding='same', activation='relu')))\n",
    "        model.add(TimeDistributed(BatchNormalization()))\n",
    "        model.add(TimeDistributed(MaxPooling2D((2, 2))))\n",
    "        \n",
    "        model.add(TimeDistributed(Conv2D(128, (3, 3) , padding='same', activation='relu')))\n",
    "        model.add(TimeDistributed(BatchNormalization()))\n",
    "        model.add(TimeDistributed(MaxPooling2D((2, 2))))\n",
    "        \n",
    "        model.add(TimeDistributed(Conv2D(256, (3, 3) , padding='same', activation='relu')))\n",
    "        model.add(TimeDistributed(BatchNormalization()))\n",
    "        model.add(TimeDistributed(MaxPooling2D((2, 2))))\n",
    "\n",
    "        model.add(TimeDistributed(Flatten()))\n",
    "\n",
    "\n",
    "        model.add(LSTM(lstm_cells))\n",
    "        model.add(Dropout(dropout))\n",
    "        \n",
    "        model.add(Dense(dense_neurons,activation='relu'))\n",
    "        model.add(Dropout(dropout))\n",
    "        \n",
    "        model.add(Dense(self.num_classes, activation='softmax'))\n",
    "        optimiser = optimizers.Adam()\n",
    "        model.compile(optimizer=optimiser, loss='categorical_crossentropy', metrics=['categorical_accuracy'])\n",
    "        return model"
   ]
  },
  {
   "cell_type": "code",
   "execution_count": 56,
   "metadata": {},
   "outputs": [
    {
     "name": "stdout",
     "output_type": "stream",
     "text": [
      "_________________________________________________________________\n",
      "Layer (type)                 Output Shape              Param #   \n",
      "=================================================================\n",
      "time_distributed_17 (TimeDis (None, 18, 120, 120, 16)  448       \n",
      "_________________________________________________________________\n",
      "time_distributed_18 (TimeDis (None, 18, 120, 120, 16)  64        \n",
      "_________________________________________________________________\n",
      "time_distributed_19 (TimeDis (None, 18, 60, 60, 16)    0         \n",
      "_________________________________________________________________\n",
      "time_distributed_20 (TimeDis (None, 18, 60, 60, 32)    4640      \n",
      "_________________________________________________________________\n",
      "time_distributed_21 (TimeDis (None, 18, 60, 60, 32)    128       \n",
      "_________________________________________________________________\n",
      "time_distributed_22 (TimeDis (None, 18, 30, 30, 32)    0         \n",
      "_________________________________________________________________\n",
      "time_distributed_23 (TimeDis (None, 18, 30, 30, 64)    18496     \n",
      "_________________________________________________________________\n",
      "time_distributed_24 (TimeDis (None, 18, 30, 30, 64)    256       \n",
      "_________________________________________________________________\n",
      "time_distributed_25 (TimeDis (None, 18, 15, 15, 64)    0         \n",
      "_________________________________________________________________\n",
      "time_distributed_26 (TimeDis (None, 18, 15, 15, 128)   73856     \n",
      "_________________________________________________________________\n",
      "time_distributed_27 (TimeDis (None, 18, 15, 15, 128)   512       \n",
      "_________________________________________________________________\n",
      "time_distributed_28 (TimeDis (None, 18, 7, 7, 128)     0         \n",
      "_________________________________________________________________\n",
      "time_distributed_29 (TimeDis (None, 18, 7, 7, 256)     295168    \n",
      "_________________________________________________________________\n",
      "time_distributed_30 (TimeDis (None, 18, 7, 7, 256)     1024      \n",
      "_________________________________________________________________\n",
      "time_distributed_31 (TimeDis (None, 18, 3, 3, 256)     0         \n",
      "_________________________________________________________________\n",
      "time_distributed_32 (TimeDis (None, 18, 2304)          0         \n",
      "_________________________________________________________________\n",
      "lstm_1 (LSTM)                (None, 128)               1245696   \n",
      "_________________________________________________________________\n",
      "dropout_43 (Dropout)         (None, 128)               0         \n",
      "_________________________________________________________________\n",
      "dense_58 (Dense)             (None, 128)               16512     \n",
      "_________________________________________________________________\n",
      "dropout_44 (Dropout)         (None, 128)               0         \n",
      "_________________________________________________________________\n",
      "dense_59 (Dense)             (None, 5)                 645       \n",
      "=================================================================\n",
      "Total params: 1,657,445\n",
      "Trainable params: 1,656,453\n",
      "Non-trainable params: 992\n",
      "_________________________________________________________________\n"
     ]
    }
   ],
   "source": [
    "rnn_cnn=RNNCNN()\n",
    "rnn_cnn.initialize_path()\n",
    "rnn_cnn.initialize_image_properties(image_height=120,image_width=120)\n",
    "rnn_cnn.initialize_hyperparams(frames_to_sample=18,batch_size=20,num_epochs=15)\n",
    "rnn_cnn_model=rnn_cnn.define_model(lstm_cells=128,dense_neurons=128,dropout=0.25)\n",
    "rnn_cnn_model.summary()"
   ]
  },
  {
   "cell_type": "code",
   "execution_count": 57,
   "metadata": {},
   "outputs": [
    {
     "name": "stdout",
     "output_type": "stream",
     "text": [
      "Total Params: 1657445\n",
      "Epoch 1/15\n",
      "34/34 [==============================] - 142s 4s/step - loss: 1.3820 - categorical_accuracy: 0.3878 - val_loss: 1.3036 - val_categorical_accuracy: 0.4284\n",
      "\n",
      "Epoch 00001: val_loss improved from inf to 1.30360, saving model to model_init_2020-09-1307_28_56.831473/model-00001-1.37651-0.38914-1.30360-0.42836.h5\n",
      "Epoch 2/15\n",
      "34/34 [==============================] - 83s 2s/step - loss: 1.0885 - categorical_accuracy: 0.5589 - val_loss: 0.9677 - val_categorical_accuracy: 0.6229\n",
      "\n",
      "Epoch 00002: val_loss improved from 1.30360 to 0.96765, saving model to model_init_2020-09-1307_28_56.831473/model-00002-1.09376-0.55204-0.96765-0.62293.h5\n",
      "Epoch 3/15\n",
      "34/34 [==============================] - 87s 3s/step - loss: 0.9993 - categorical_accuracy: 0.6038 - val_loss: 0.8651 - val_categorical_accuracy: 0.6576\n",
      "\n",
      "Epoch 00003: val_loss improved from 0.96765 to 0.86511, saving model to model_init_2020-09-1307_28_56.831473/model-00003-1.00526-0.60633-0.86511-0.65762.h5\n",
      "Epoch 4/15\n",
      "34/34 [==============================] - 84s 2s/step - loss: 0.9103 - categorical_accuracy: 0.6512 - val_loss: 1.7258 - val_categorical_accuracy: 0.3499\n",
      "\n",
      "Epoch 00004: val_loss did not improve from 0.86511\n",
      "Epoch 5/15\n",
      "34/34 [==============================] - 83s 2s/step - loss: 0.9167 - categorical_accuracy: 0.6468 - val_loss: 0.8101 - val_categorical_accuracy: 0.6772\n",
      "\n",
      "Epoch 00005: val_loss improved from 0.86511 to 0.81007, saving model to model_init_2020-09-1307_28_56.831473/model-00005-0.92156-0.63801-0.81007-0.67722.h5\n",
      "Epoch 6/15\n",
      "34/34 [==============================] - 84s 2s/step - loss: 0.7648 - categorical_accuracy: 0.7101 - val_loss: 0.7638 - val_categorical_accuracy: 0.6848\n",
      "\n",
      "Epoch 00006: val_loss improved from 0.81007 to 0.76384, saving model to model_init_2020-09-1307_28_56.831473/model-00006-0.75822-0.71116-0.76384-0.68477.h5\n",
      "Epoch 7/15\n",
      "34/34 [==============================] - 84s 2s/step - loss: 0.6672 - categorical_accuracy: 0.7550 - val_loss: 0.7160 - val_categorical_accuracy: 0.7119\n",
      "\n",
      "Epoch 00007: val_loss improved from 0.76384 to 0.71595, saving model to model_init_2020-09-1307_28_56.831473/model-00007-0.67745-0.74887-0.71595-0.71192.h5\n",
      "Epoch 8/15\n",
      "34/34 [==============================] - 87s 3s/step - loss: 0.5920 - categorical_accuracy: 0.7697 - val_loss: 0.7622 - val_categorical_accuracy: 0.6938\n",
      "\n",
      "Epoch 00008: val_loss did not improve from 0.71595\n",
      "Epoch 9/15\n",
      "34/34 [==============================] - 85s 3s/step - loss: 0.5481 - categorical_accuracy: 0.7792 - val_loss: 0.5437 - val_categorical_accuracy: 0.7738\n",
      "\n",
      "Epoch 00009: val_loss improved from 0.71595 to 0.54371, saving model to model_init_2020-09-1307_28_56.831473/model-00009-0.54213-0.79035-0.54371-0.77376.h5\n",
      "Epoch 10/15\n",
      "34/34 [==============================] - 86s 3s/step - loss: 0.5020 - categorical_accuracy: 0.8061 - val_loss: 0.4810 - val_categorical_accuracy: 0.8145\n",
      "\n",
      "Epoch 00010: val_loss improved from 0.54371 to 0.48099, saving model to model_init_2020-09-1307_28_56.831473/model-00010-0.50207-0.80543-0.48099-0.81448.h5\n",
      "Epoch 11/15\n",
      "34/34 [==============================] - 84s 2s/step - loss: 0.4658 - categorical_accuracy: 0.8322 - val_loss: 0.3853 - val_categorical_accuracy: 0.8477\n",
      "\n",
      "Epoch 00011: val_loss improved from 0.48099 to 0.38531, saving model to model_init_2020-09-1307_28_56.831473/model-00011-0.44574-0.83635-0.38531-0.84766.h5\n",
      "Epoch 12/15\n",
      "34/34 [==============================] - 85s 3s/step - loss: 0.4553 - categorical_accuracy: 0.8315 - val_loss: 0.8795 - val_categorical_accuracy: 0.7195\n",
      "\n",
      "Epoch 00012: val_loss did not improve from 0.38531\n",
      "Epoch 13/15\n",
      "34/34 [==============================] - 84s 2s/step - loss: 0.4100 - categorical_accuracy: 0.8499 - val_loss: 0.4313 - val_categorical_accuracy: 0.8205\n",
      "\n",
      "Epoch 00013: val_loss did not improve from 0.38531\n",
      "Epoch 14/15\n",
      "34/34 [==============================] - 86s 3s/step - loss: 0.4447 - categorical_accuracy: 0.8484 - val_loss: 0.3112 - val_categorical_accuracy: 0.8914\n",
      "\n",
      "Epoch 00014: val_loss improved from 0.38531 to 0.31116, saving model to model_init_2020-09-1307_28_56.831473/model-00014-0.42250-0.85294-0.31116-0.89140.h5\n",
      "Epoch 15/15\n",
      "34/34 [==============================] - 86s 3s/step - loss: 0.3799 - categorical_accuracy: 0.8587 - val_loss: 0.7530 - val_categorical_accuracy: 0.7330\n",
      "\n",
      "Epoch 00015: val_loss did not improve from 0.31116\n"
     ]
    }
   ],
   "source": [
    "print(\"Total Params:\", rnn_cnn_model.count_params())\n",
    "history_model7=rnn_cnn.train_model(rnn_cnn_model,augment_data=True)"
   ]
  },
  {
   "cell_type": "code",
   "execution_count": 58,
   "metadata": {},
   "outputs": [
    {
     "data": {
      "image/png": "[encoded data removed]",
      "text/plain": [
       "<Figure size 1080x288 with 2 Axes>"
      ]
     },
     "metadata": {},
     "output_type": "display_data"
    }
   ],
   "source": [
    "plot(history_model7)"
   ]
  },
  {
   "cell_type": "markdown",
   "metadata": {},
   "source": [
    "### For CNN - LSTM model we get a best validation accuracy of 89.14% and tranning accuracy of 84.84%"
   ]
  },
  {
   "cell_type": "markdown",
   "metadata": {},
   "source": [
    "### Tina Ghosh\n",
    "### Siddhant Sambit"
   ]
  },
  {
   "cell_type": "code",
   "execution_count": null,
   "metadata": {},
   "outputs": [],
   "source": []
  }
 ],
 "metadata": {
  "kernelspec": {
   "display_name": "Python 3",
   "language": "python",
   "name": "python3"
  },
  "language_info": {
   "codemirror_mode": {
    "name": "ipython",
    "version": 3
   },
   "file_extension": ".py",
   "mimetype": "text/x-python",
   "name": "python",
   "nbconvert_exporter": "python",
   "pygments_lexer": "ipython3",
   "version": "3.7.0"
  }
 },
 "nbformat": 4,
 "nbformat_minor": 2
}
